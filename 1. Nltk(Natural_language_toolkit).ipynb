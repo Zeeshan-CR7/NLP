{
 "cells": [
  {
   "cell_type": "code",
   "execution_count": 1,
   "metadata": {
    "ExecuteTime": {
     "end_time": "2021-12-28T16:16:28.978019Z",
     "start_time": "2021-12-28T16:16:26.121339Z"
    },
    "id": "KHbvS0C_PX96",
    "outputId": "372fa253-12b7-4d55-d8d4-0aefd3067bec"
   },
   "outputs": [
    {
     "name": "stdout",
     "output_type": "stream",
     "text": [
      "Requirement already satisfied: nltk in c:\\programdata\\anaconda3\\lib\\site-packages (3.6.1)\n",
      "Requirement already satisfied: regex in c:\\programdata\\anaconda3\\lib\\site-packages (from nltk) (2021.4.4)\n",
      "Requirement already satisfied: click in c:\\programdata\\anaconda3\\lib\\site-packages (from nltk) (7.1.2)\n",
      "Requirement already satisfied: joblib in c:\\programdata\\anaconda3\\lib\\site-packages (from nltk) (1.0.1)\n",
      "Requirement already satisfied: tqdm in c:\\programdata\\anaconda3\\lib\\site-packages (from nltk) (4.59.0)\n"
     ]
    }
   ],
   "source": [
    "#Installing the lib\n",
    "!pip install nltk"
   ]
  },
  {
   "cell_type": "code",
   "execution_count": 2,
   "metadata": {
    "ExecuteTime": {
     "end_time": "2021-12-28T16:16:30.614511Z",
     "start_time": "2021-12-28T16:16:28.983291Z"
    }
   },
   "outputs": [],
   "source": [
    "import nltk\n",
    "import string\n",
    "from nltk.stem import PorterStemmer, LancasterStemmer, SnowballStemmer\n",
    "from nltk.stem import WordNetLemmatizer\n",
    "from nltk import FreqDist"
   ]
  },
  {
   "cell_type": "code",
   "execution_count": 3,
   "metadata": {
    "ExecuteTime": {
     "end_time": "2021-12-28T16:16:30.993532Z",
     "start_time": "2021-12-28T16:16:30.621368Z"
    },
    "id": "e7YUQYqSPX-C",
    "outputId": "8c145276-69c7-41ea-9d4b-358b021215e1"
   },
   "outputs": [
    {
     "name": "stderr",
     "output_type": "stream",
     "text": [
      "[nltk_data] Downloading package punkt to\n",
      "[nltk_data]     C:\\Users\\USER\\AppData\\Roaming\\nltk_data...\n",
      "[nltk_data]   Package punkt is already up-to-date!\n",
      "[nltk_data] Downloading package averaged_perceptron_tagger to\n",
      "[nltk_data]     C:\\Users\\USER\\AppData\\Roaming\\nltk_data...\n",
      "[nltk_data]   Package averaged_perceptron_tagger is already up-to-\n",
      "[nltk_data]       date!\n",
      "[nltk_data] Downloading package stopwords to\n",
      "[nltk_data]     C:\\Users\\USER\\AppData\\Roaming\\nltk_data...\n",
      "[nltk_data]   Package stopwords is already up-to-date!\n",
      "[nltk_data] Downloading package wordnet to\n",
      "[nltk_data]     C:\\Users\\USER\\AppData\\Roaming\\nltk_data...\n",
      "[nltk_data]   Package wordnet is already up-to-date!\n",
      "[nltk_data] Downloading package maxent_ne_chunker to\n",
      "[nltk_data]     C:\\Users\\USER\\AppData\\Roaming\\nltk_data...\n",
      "[nltk_data]   Package maxent_ne_chunker is already up-to-date!\n",
      "[nltk_data] Downloading package words to\n",
      "[nltk_data]     C:\\Users\\USER\\AppData\\Roaming\\nltk_data...\n",
      "[nltk_data]   Package words is already up-to-date!\n"
     ]
    },
    {
     "data": {
      "text/plain": [
       "True"
      ]
     },
     "execution_count": 3,
     "metadata": {},
     "output_type": "execute_result"
    }
   ],
   "source": [
    "# donwlaoding the modeles\n",
    "nltk.download('punkt')\n",
    "nltk.download('averaged_perceptron_tagger')\n",
    "nltk.download('stopwords')\n",
    "nltk.download('wordnet')\n",
    "nltk.download('maxent_ne_chunker')\n",
    "nltk.download('words')"
   ]
  },
  {
   "cell_type": "code",
   "execution_count": 4,
   "metadata": {
    "ExecuteTime": {
     "end_time": "2021-12-28T16:16:31.002487Z",
     "start_time": "2021-12-28T16:16:30.996213Z"
    },
    "id": "buqChtbBPX-E"
   },
   "outputs": [],
   "source": [
    "data = \"\"\"India (Hindi: Bhārat), officially the Republic of India, is a country in South Asia. It is the seventh-largest \n",
    "        country by area, the second-most populous country, and the most populous democracy in the world. Bounded by the \n",
    "        Indian Ocean on the south, the Arabian Sea on the southwest, and the Bay of Bengal on the southeast, it shares land \n",
    "        borders with Pakistan to the west; China, Nepal, and Bhutan to the north; and Bangladesh and Myanmar to the east. \n",
    "        In the Indian Ocean, India is in the vicinity of Sri Lanka and the Maldives; its Andaman and Nicobar Islands share \n",
    "        a maritime border with Thailand and Indonesia.\"\"\""
   ]
  },
  {
   "cell_type": "code",
   "execution_count": 5,
   "metadata": {
    "ExecuteTime": {
     "end_time": "2021-12-28T16:16:31.046809Z",
     "start_time": "2021-12-28T16:16:31.005182Z"
    },
    "id": "B-estCJ8PX-F",
    "outputId": "2d69c0b8-94d2-4b3a-e367-e3277fbd15fb"
   },
   "outputs": [
    {
     "data": {
      "text/plain": [
       "['India (Hindi: Bhārat), officially the Republic of India, is a country in South Asia.',\n",
       " 'It is the seventh-largest \\n        country by area, the second-most populous country, and the most populous democracy in the world.',\n",
       " 'Bounded by the \\n        Indian Ocean on the south, the Arabian Sea on the southwest, and the Bay of Bengal on the southeast, it shares land \\n        borders with Pakistan to the west; China, Nepal, and Bhutan to the north; and Bangladesh and Myanmar to the east.',\n",
       " 'In the Indian Ocean, India is in the vicinity of Sri Lanka and the Maldives; its Andaman and Nicobar Islands share \\n        a maritime border with Thailand and Indonesia.']"
      ]
     },
     "execution_count": 5,
     "metadata": {},
     "output_type": "execute_result"
    }
   ],
   "source": [
    "nltk.sent_tokenize(data)"
   ]
  },
  {
   "cell_type": "code",
   "execution_count": 6,
   "metadata": {
    "ExecuteTime": {
     "end_time": "2021-12-28T16:16:31.056838Z",
     "start_time": "2021-12-28T16:16:31.050016Z"
    },
    "id": "oDhGNQDtPX-G",
    "outputId": "77e5b93f-48ff-4518-cae6-884b45a1a81c"
   },
   "outputs": [
    {
     "data": {
      "text/plain": [
       "4"
      ]
     },
     "execution_count": 6,
     "metadata": {},
     "output_type": "execute_result"
    }
   ],
   "source": [
    "len(nltk.sent_tokenize(data))"
   ]
  },
  {
   "cell_type": "code",
   "execution_count": 7,
   "metadata": {
    "ExecuteTime": {
     "end_time": "2021-12-28T16:16:31.084905Z",
     "start_time": "2021-12-28T16:16:31.058884Z"
    },
    "id": "NsNixBmfPX-G",
    "outputId": "aa8c715a-0909-42e5-9708-3b1374af0c41"
   },
   "outputs": [
    {
     "data": {
      "text/plain": [
       "126"
      ]
     },
     "execution_count": 7,
     "metadata": {},
     "output_type": "execute_result"
    }
   ],
   "source": [
    "nltk.word_tokenize(data)\n",
    "len(nltk.word_tokenize(data))"
   ]
  },
  {
   "cell_type": "code",
   "execution_count": 8,
   "metadata": {
    "ExecuteTime": {
     "end_time": "2021-12-28T16:16:31.275457Z",
     "start_time": "2021-12-28T16:16:31.089335Z"
    },
    "id": "j0rm0anGPX-K",
    "outputId": "bceedec9-e91b-4f39-84a0-9aaee9994521"
   },
   "outputs": [
    {
     "data": {
      "text/plain": [
       "[('we', 'PRP'),\n",
       " ('will', 'MD'),\n",
       " ('see', 'VB'),\n",
       " ('an', 'DT'),\n",
       " ('example', 'NN'),\n",
       " ('of', 'IN'),\n",
       " ('POS', 'NNP'),\n",
       " ('tagging', 'VBG')]"
      ]
     },
     "execution_count": 8,
     "metadata": {},
     "output_type": "execute_result"
    }
   ],
   "source": [
    "# POS Tagging\n",
    "data = 'we will see an example of POS tagging'\n",
    "word_token = nltk.word_tokenize(data)\n",
    "pos = nltk.pos_tag(word_token)\n",
    "pos"
   ]
  },
  {
   "cell_type": "markdown",
   "metadata": {
    "id": "Al1AhKW3PX-L"
   },
   "source": [
    "link for all abb for pos - https://www.guru99.com/pos-tagging-chunking-nltk.html"
   ]
  },
  {
   "cell_type": "markdown",
   "metadata": {
    "id": "66nqBgJCPX-P"
   },
   "source": [
    "# Function that takes and string and return total sentences count, total word count , and all the verbs in a sentence"
   ]
  },
  {
   "cell_type": "code",
   "execution_count": 9,
   "metadata": {
    "ExecuteTime": {
     "end_time": "2021-12-28T16:16:31.291185Z",
     "start_time": "2021-12-28T16:16:31.282922Z"
    },
    "id": "t3xhifNfPX-Q"
   },
   "outputs": [],
   "source": [
    "data = \"\"\"Kohli captained India Under-19s to victory at the 2008 Under-19 World Cup in Malaysia. After a few months later, \n",
    "        he made his ODI debut for India against Sri Lanka at the age of 19. Initially having played as a reserve batsman in \n",
    "        the Indian team, he soon established himself as a regular in the ODI middle-order and was part of the squad that \n",
    "        won the 2011 World Cup. He made his Test debut in 2011 and shrugged off the tag of \"ODI specialist\" by 2013 with \n",
    "        Test hundreds in Australia and South Africa.[3] Having reached the number one spot in the ICC rankings for ODI \n",
    "        batsmen for the first time in 2013,[4] Kohli also found success in the Twenty20 format, winning the Man of the \n",
    "        Tournament twice at the ICC World Twenty20 (in 2014 and 2016)\"\"\""
   ]
  },
  {
   "cell_type": "code",
   "execution_count": 10,
   "metadata": {
    "ExecuteTime": {
     "end_time": "2021-12-28T16:16:31.308671Z",
     "start_time": "2021-12-28T16:16:31.295546Z"
    },
    "id": "wMCrA2AhPX-R"
   },
   "outputs": [],
   "source": [
    "def info(data):\n",
    "    len_sent = len(nltk.sent_tokenize(data))\n",
    "    len_word = len(nltk.word_tokenize(data))\n",
    "    verb_list = []\n",
    "    for words in nltk.pos_tag(nltk.word_tokenize(data)):\n",
    "        if words[1].startswith('VB'):\n",
    "            verb_list.append(words[0])       \n",
    "    return {'len_sen':len_sent , 'len_word':len_word , 'verbs':verb_list}  "
   ]
  },
  {
   "cell_type": "code",
   "execution_count": 11,
   "metadata": {
    "ExecuteTime": {
     "end_time": "2021-12-28T16:16:31.347347Z",
     "start_time": "2021-12-28T16:16:31.312777Z"
    },
    "id": "11XhYfNbPX-R",
    "outputId": "9f655de3-aa03-449d-d411-6df0f53da7f7"
   },
   "outputs": [
    {
     "data": {
      "text/plain": [
       "{'len_sen': 5,\n",
       " 'len_word': 154,\n",
       " 'verbs': ['captained',\n",
       "  'made',\n",
       "  'having',\n",
       "  'played',\n",
       "  'established',\n",
       "  'was',\n",
       "  'won',\n",
       "  'made',\n",
       "  'shrugged',\n",
       "  'reached',\n",
       "  '[',\n",
       "  'found',\n",
       "  'winning']}"
      ]
     },
     "execution_count": 11,
     "metadata": {},
     "output_type": "execute_result"
    }
   ],
   "source": [
    "information = info(data)\n",
    "information"
   ]
  },
  {
   "cell_type": "code",
   "execution_count": 12,
   "metadata": {
    "ExecuteTime": {
     "end_time": "2021-12-28T16:16:31.362699Z",
     "start_time": "2021-12-28T16:16:31.349443Z"
    },
    "id": "kdHTjY7SPX-T",
    "outputId": "e9f5b173-6de8-4985-aaff-b8c1d866341b"
   },
   "outputs": [
    {
     "data": {
      "text/plain": [
       "179"
      ]
     },
     "execution_count": 12,
     "metadata": {},
     "output_type": "execute_result"
    }
   ],
   "source": [
    "from nltk.corpus import stopwords\n",
    "stopwords = stopwords.words('english')\n",
    "len(stopwords)"
   ]
  },
  {
   "cell_type": "code",
   "execution_count": 13,
   "metadata": {
    "ExecuteTime": {
     "end_time": "2021-12-28T16:16:31.371063Z",
     "start_time": "2021-12-28T16:16:31.365121Z"
    },
    "id": "yBc9bCABPX-U"
   },
   "outputs": [],
   "source": [
    "data = \"\"\"India (Hindi: Bhārat), officially the Republic of India, is a country in South Asia. It is the seventh-largest \n",
    "        country by area, the second-most populous country, and the most populous democracy in the world. Bounded by the \n",
    "        Indian Ocean on the south, the Arabian Sea on the southwest, and the Bay of Bengal on the southeast, it shares land \n",
    "        borders with Pakistan to the west; China, Nepal, and Bhutan to the north; and Bangladesh and Myanmar to the east. \n",
    "        In the Indian Ocean, India is in the vicinity of Sri Lanka and the Maldives; its Andaman and Nicobar Islands share \n",
    "        a maritime border with Thailand and Indonesia.\"\"\""
   ]
  },
  {
   "cell_type": "code",
   "execution_count": 14,
   "metadata": {
    "ExecuteTime": {
     "end_time": "2021-12-28T16:16:31.389304Z",
     "start_time": "2021-12-28T16:16:31.373057Z"
    },
    "id": "pitXKyR9PX-U"
   },
   "outputs": [
    {
     "data": {
      "text/plain": [
       "'!\"#$%&\\'()*+,-./:;<=>?@[\\\\]^_`{|}~'"
      ]
     },
     "execution_count": 14,
     "metadata": {},
     "output_type": "execute_result"
    }
   ],
   "source": [
    "punct = string.punctuation\n",
    "punct"
   ]
  },
  {
   "cell_type": "code",
   "execution_count": 15,
   "metadata": {
    "ExecuteTime": {
     "end_time": "2021-12-28T16:16:31.403678Z",
     "start_time": "2021-12-28T16:16:31.392529Z"
    },
    "id": "5SOFUo8sPX-V"
   },
   "outputs": [],
   "source": [
    "def clean_sentence(sentence):\n",
    "    clean_data = []\n",
    "    for word in nltk.word_tokenize(sentence.lower()):\n",
    "        if word not in punct:\n",
    "            if word not in stopwords:\n",
    "                clean_data.append(word)\n",
    "    return \" \".join(clean_data) , clean_data"
   ]
  },
  {
   "cell_type": "code",
   "execution_count": 16,
   "metadata": {
    "ExecuteTime": {
     "end_time": "2021-12-28T16:16:31.424353Z",
     "start_time": "2021-12-28T16:16:31.406057Z"
    },
    "id": "tQ1LpiHoPX-V"
   },
   "outputs": [
    {
     "data": {
      "text/plain": [
       "['india',\n",
       " 'hindi',\n",
       " 'bhārat',\n",
       " 'officially',\n",
       " 'republic',\n",
       " 'india',\n",
       " 'country',\n",
       " 'south',\n",
       " 'asia',\n",
       " 'seventh-largest',\n",
       " 'country',\n",
       " 'area',\n",
       " 'second-most',\n",
       " 'populous',\n",
       " 'country',\n",
       " 'populous',\n",
       " 'democracy',\n",
       " 'world',\n",
       " 'bounded',\n",
       " 'indian',\n",
       " 'ocean',\n",
       " 'south',\n",
       " 'arabian',\n",
       " 'sea',\n",
       " 'southwest',\n",
       " 'bay',\n",
       " 'bengal',\n",
       " 'southeast',\n",
       " 'shares',\n",
       " 'land',\n",
       " 'borders',\n",
       " 'pakistan',\n",
       " 'west',\n",
       " 'china',\n",
       " 'nepal',\n",
       " 'bhutan',\n",
       " 'north',\n",
       " 'bangladesh',\n",
       " 'myanmar',\n",
       " 'east',\n",
       " 'indian',\n",
       " 'ocean',\n",
       " 'india',\n",
       " 'vicinity',\n",
       " 'sri',\n",
       " 'lanka',\n",
       " 'maldives',\n",
       " 'andaman',\n",
       " 'nicobar',\n",
       " 'islands',\n",
       " 'share',\n",
       " 'maritime',\n",
       " 'border',\n",
       " 'thailand',\n",
       " 'indonesia']"
      ]
     },
     "execution_count": 16,
     "metadata": {},
     "output_type": "execute_result"
    }
   ],
   "source": [
    "clean_sen , clean_data = clean_sentence(data)\n",
    "clean_data"
   ]
  },
  {
   "cell_type": "code",
   "execution_count": 17,
   "metadata": {
    "ExecuteTime": {
     "end_time": "2021-12-28T16:16:31.435677Z",
     "start_time": "2021-12-28T16:16:31.428679Z"
    },
    "id": "mbx2vgHVPX-a"
   },
   "outputs": [],
   "source": [
    "lancaster = LancasterStemmer()\n",
    "porter = PorterStemmer()\n",
    "snowball = SnowballStemmer('english')"
   ]
  },
  {
   "cell_type": "code",
   "execution_count": 18,
   "metadata": {
    "ExecuteTime": {
     "end_time": "2021-12-28T16:16:31.460950Z",
     "start_time": "2021-12-28T16:16:31.440411Z"
    },
    "id": "NrmteK-BPX-a",
    "outputId": "70030bfd-d72f-4c61-aec7-b3cc002a6ef6"
   },
   "outputs": [
    {
     "name": "stdout",
     "output_type": "stream",
     "text": [
      "Porter Stemmer\n",
      "hobbi\n",
      "hobbi\n",
      "comput\n",
      "comput\n",
      "----------------------------------------------\n",
      "lancaster Stemmer\n",
      "hobby\n",
      "hobby\n",
      "comput\n",
      "comput\n",
      "----------------------------------------------\n",
      "Snowball Stemmer\n",
      "hobbi\n",
      "hobbi\n",
      "comput\n",
      "comput\n"
     ]
    }
   ],
   "source": [
    "print('Porter Stemmer')\n",
    "print(porter.stem('hobby'))\n",
    "print(porter.stem('hobbies'))\n",
    "print(porter.stem('computer'))\n",
    "print(porter.stem('computation'))\n",
    "print('----------------------------------------------')\n",
    "print('lancaster Stemmer')\n",
    "print(lancaster.stem('hobby'))\n",
    "print(lancaster.stem('hobbies'))\n",
    "print(lancaster.stem('computer'))\n",
    "print(lancaster.stem('computation'))\n",
    "print('----------------------------------------------')\n",
    "print('Snowball Stemmer')\n",
    "print(snowball.stem('hobby'))\n",
    "print(snowball.stem('hobbies'))\n",
    "print(snowball.stem('computer'))\n",
    "print(snowball.stem('computation'))"
   ]
  },
  {
   "cell_type": "code",
   "execution_count": 19,
   "metadata": {
    "ExecuteTime": {
     "end_time": "2021-12-28T16:16:31.478542Z",
     "start_time": "2021-12-28T16:16:31.466860Z"
    },
    "id": "w0nPULo0PX-b",
    "outputId": "ffbda9bb-7058-4dec-ce38-3048bb6525a8"
   },
   "outputs": [
    {
     "name": "stdout",
     "output_type": "stream",
     "text": [
      "<nltk.stem.snowball.SnowballStemmer object at 0x000001C85A4C87F0>\n",
      "i was go to the offic on my bike when i saw a car pass by hit the tree\n",
      "<LancasterStemmer>\n",
      "i was going to the off on my bik when i saw a car pass by hit the tre\n",
      "<PorterStemmer>\n",
      "i wa go to the offic on my bike when i saw a car pass by hit the tree\n"
     ]
    }
   ],
   "source": [
    "sent = 'i Was going to the office on my bike when i saw a car passing by hit the tree'\n",
    "token = nltk.word_tokenize(sent)\n",
    "for stemmer in (snowball , lancaster , porter):\n",
    "    print(stemmer)\n",
    "    stemm = [stemmer.stem(t) for t in token]\n",
    "    print(\" \". join(stemm))"
   ]
  },
  {
   "cell_type": "markdown",
   "metadata": {
    "id": "cPecBXs1PX-b"
   },
   "source": [
    "# lemmatization"
   ]
  },
  {
   "cell_type": "code",
   "execution_count": 20,
   "metadata": {
    "ExecuteTime": {
     "end_time": "2021-12-28T16:16:31.501413Z",
     "start_time": "2021-12-28T16:16:31.481794Z"
    },
    "id": "Xd9y9G8MPX-c"
   },
   "outputs": [],
   "source": [
    "lemma = WordNetLemmatizer()"
   ]
  },
  {
   "cell_type": "code",
   "execution_count": 21,
   "metadata": {
    "ExecuteTime": {
     "end_time": "2021-12-28T16:16:33.341956Z",
     "start_time": "2021-12-28T16:16:31.506467Z"
    },
    "id": "iijGKZjkPX-c",
    "outputId": "ea46c71e-ef19-4de0-8683-e761aa87248c"
   },
   "outputs": [
    {
     "name": "stdout",
     "output_type": "stream",
     "text": [
      "go\n",
      "go\n",
      "saw\n"
     ]
    }
   ],
   "source": [
    "print(lemma.lemmatize('goes' , pos='v'))\n",
    "print(lemma.lemmatize('going' ,  pos='v'))\n",
    "print(lemma.lemmatize('saw',  pos='v'))"
   ]
  },
  {
   "cell_type": "code",
   "execution_count": 22,
   "metadata": {
    "ExecuteTime": {
     "end_time": "2021-12-28T16:16:33.362542Z",
     "start_time": "2021-12-28T16:16:33.345552Z"
    },
    "id": "Xtps8RPnPX-c"
   },
   "outputs": [],
   "source": [
    "sent = 'i Was going to the office on my bike when i saw a car passing by hit the tree'\n",
    "\n",
    "def clean_sentence(sentence):\n",
    "    clean_data = []\n",
    "    for word in nltk.word_tokenize(sentence.lower()):\n",
    "        if word not in punct:\n",
    "            if word not in stopwords:\n",
    "                clean_data.append(lemma.lemmatize(word , pos='v'))\n",
    "    return \" \".join(clean_data) , clean_data"
   ]
  },
  {
   "cell_type": "code",
   "execution_count": 23,
   "metadata": {
    "ExecuteTime": {
     "end_time": "2021-12-28T16:16:33.383952Z",
     "start_time": "2021-12-28T16:16:33.369560Z"
    },
    "id": "qVd7liIPPX-c"
   },
   "outputs": [],
   "source": [
    "data,_ = clean_sentence(sent)"
   ]
  },
  {
   "cell_type": "code",
   "execution_count": 24,
   "metadata": {
    "ExecuteTime": {
     "end_time": "2021-12-28T16:16:33.399214Z",
     "start_time": "2021-12-28T16:16:33.387746Z"
    },
    "id": "sUmLasJmPX-d",
    "outputId": "0cab39f5-011f-4e5a-b4c7-796cd36a7c74"
   },
   "outputs": [
    {
     "data": {
      "text/plain": [
       "'go office bike saw car pass hit tree'"
      ]
     },
     "execution_count": 24,
     "metadata": {},
     "output_type": "execute_result"
    }
   ],
   "source": [
    "data"
   ]
  },
  {
   "cell_type": "code",
   "execution_count": 25,
   "metadata": {
    "ExecuteTime": {
     "end_time": "2021-12-28T16:16:33.609794Z",
     "start_time": "2021-12-28T16:16:33.402088Z"
    },
    "id": "SQwbU6wYPX-f",
    "outputId": "b022db2b-ed46-42a8-f012-e146270a509b"
   },
   "outputs": [
    {
     "name": "stdout",
     "output_type": "stream",
     "text": [
      "(S\n",
      "  (PERSON Barack/NNP)\n",
      "  (GPE Obama/NNP)\n",
      "  ,/,\n",
      "  officially/RB\n",
      "  the/DT\n",
      "  (ORGANIZATION Republic/NNP)\n",
      "  of/IN\n",
      "  (GPE India/NNP)\n",
      "  ,/,\n",
      "  is/VBZ\n",
      "  a/DT\n",
      "  country/NN\n",
      "  in/IN\n",
      "  (GPE South/NNP Asia/NNP))\n"
     ]
    }
   ],
   "source": [
    "sent = 'Barack Obama, officially the Republic of India, is a country in South Asia'\n",
    "\n",
    "words = nltk.word_tokenize(sent)\n",
    "pos_tag = nltk.pos_tag(words)\n",
    "named_entity = nltk.ne_chunk(pos_tag)\n",
    "print(named_entity)"
   ]
  },
  {
   "cell_type": "code",
   "execution_count": 26,
   "metadata": {
    "ExecuteTime": {
     "end_time": "2021-12-28T16:16:34.717392Z",
     "start_time": "2021-12-28T16:16:33.610792Z"
    },
    "id": "Il6OpZw7PX-g",
    "outputId": "08d4854f-2b4b-4229-ed44-4eaf16e948d4"
   },
   "outputs": [
    {
     "data": {
      "image/png": "[encoded data removed]",
      "text/plain": [
       "<Figure size 432x288 with 1 Axes>"
      ]
     },
     "metadata": {
      "needs_background": "light"
     },
     "output_type": "display_data"
    },
    {
     "data": {
      "text/plain": [
       "<AxesSubplot:xlabel='Samples', ylabel='Counts'>"
      ]
     },
     "execution_count": 26,
     "metadata": {},
     "output_type": "execute_result"
    }
   ],
   "source": [
    "sent = 'Barack Obama, officially the Republic of India, is a country in In South Asia'\n",
    "freq = FreqDist(nltk.word_tokenize(sent.lower()))\n",
    "freq.plot()"
   ]
  },
  {
   "cell_type": "code",
   "execution_count": 27,
   "metadata": {
    "ExecuteTime": {
     "end_time": "2021-12-28T16:16:34.737028Z",
     "start_time": "2021-12-28T16:16:34.721011Z"
    },
    "id": "qHGuJ7A6PX-h",
    "outputId": "1e904cc8-7f7d-43e6-c3df-a9a06b9f4d43"
   },
   "outputs": [
    {
     "name": "stdout",
     "output_type": "stream",
     "text": [
      "{'barack': 1, 'obama': 1, ',': 2, 'officially': 1, 'the': 1, 'republic': 1, 'of': 1, 'india': 1, 'is': 1, 'a': 1, 'country': 1, 'in': 2, 'south': 1, 'asia': 1}\n"
     ]
    }
   ],
   "source": [
    "print(dict(freq))"
   ]
  },
  {
   "cell_type": "code",
   "execution_count": 28,
   "metadata": {
    "ExecuteTime": {
     "end_time": "2021-12-28T16:16:34.752280Z",
     "start_time": "2021-12-28T16:16:34.742607Z"
    },
    "id": "rA6DxgnSPX-h",
    "outputId": "aa4b3eb1-3031-453d-9da2-0321a301d13b"
   },
   "outputs": [
    {
     "data": {
      "text/plain": [
       "2"
      ]
     },
     "execution_count": 28,
     "metadata": {},
     "output_type": "execute_result"
    }
   ],
   "source": [
    "freq['in']"
   ]
  }
 ],
 "metadata": {
  "colab": {
   "name": "Nltk(Natural language toolkit).ipynb",
   "provenance": []
  },
  "kernelspec": {
   "display_name": "Python 3",
   "language": "python",
   "name": "python3"
  },
  "language_info": {
   "codemirror_mode": {
    "name": "ipython",
    "version": 3
   },
   "file_extension": ".py",
   "mimetype": "text/x-python",
   "name": "python",
   "nbconvert_exporter": "python",
   "pygments_lexer": "ipython3",
   "version": "3.8.8"
  }
 },
 "nbformat": 4,
 "nbformat_minor": 1
}
