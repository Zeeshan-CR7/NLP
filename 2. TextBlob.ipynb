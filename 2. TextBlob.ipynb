{
 "cells": [
  {
   "cell_type": "code",
   "execution_count": 3,
   "metadata": {
    "ExecuteTime": {
     "end_time": "2021-12-29T06:45:17.173465Z",
     "start_time": "2021-12-29T06:45:04.095799Z"
    },
    "id": "4CN1Nr78Hga_",
    "outputId": "6ce9ff2d-150d-4a29-d253-139691ccfe93"
   },
   "outputs": [
    {
     "name": "stdout",
     "output_type": "stream",
     "text": [
      "Requirement already satisfied: textblob in c:\\programdata\\anaconda3\\lib\\site-packages (0.17.1)\n",
      "Requirement already satisfied: nltk>=3.1 in c:\\programdata\\anaconda3\\lib\\site-packages (from textblob) (3.6.1)\n",
      "Requirement already satisfied: tqdm in c:\\programdata\\anaconda3\\lib\\site-packages (from nltk>=3.1->textblob) (4.59.0)\n",
      "Requirement already satisfied: joblib in c:\\programdata\\anaconda3\\lib\\site-packages (from nltk>=3.1->textblob) (1.0.1)\n",
      "Requirement already satisfied: click in c:\\programdata\\anaconda3\\lib\\site-packages (from nltk>=3.1->textblob) (7.1.2)\n",
      "Requirement already satisfied: regex in c:\\programdata\\anaconda3\\lib\\site-packages (from nltk>=3.1->textblob) (2021.4.4)\n",
      "Finished.\n"
     ]
    },
    {
     "name": "stderr",
     "output_type": "stream",
     "text": [
      "[nltk_data] Downloading package brown to\n",
      "[nltk_data]     C:\\Users\\USER\\AppData\\Roaming\\nltk_data...\n",
      "[nltk_data]   Unzipping corpora\\brown.zip.\n",
      "[nltk_data] Downloading package punkt to\n",
      "[nltk_data]     C:\\Users\\USER\\AppData\\Roaming\\nltk_data...\n",
      "[nltk_data]   Package punkt is already up-to-date!\n",
      "[nltk_data] Downloading package wordnet to\n",
      "[nltk_data]     C:\\Users\\USER\\AppData\\Roaming\\nltk_data...\n",
      "[nltk_data]   Package wordnet is already up-to-date!\n",
      "[nltk_data] Downloading package averaged_perceptron_tagger to\n",
      "[nltk_data]     C:\\Users\\USER\\AppData\\Roaming\\nltk_data...\n",
      "[nltk_data]   Package averaged_perceptron_tagger is already up-to-\n",
      "[nltk_data]       date!\n",
      "[nltk_data] Downloading package conll2000 to\n",
      "[nltk_data]     C:\\Users\\USER\\AppData\\Roaming\\nltk_data...\n",
      "[nltk_data]   Unzipping corpora\\conll2000.zip.\n",
      "[nltk_data] Downloading package movie_reviews to\n",
      "[nltk_data]     C:\\Users\\USER\\AppData\\Roaming\\nltk_data...\n",
      "[nltk_data]   Unzipping corpora\\movie_reviews.zip.\n"
     ]
    }
   ],
   "source": [
    "# Installing the libraries\n",
    "!pip install textblob\n",
    "!python -m textblob.download_corpora"
   ]
  },
  {
   "cell_type": "code",
   "execution_count": 17,
   "metadata": {
    "ExecuteTime": {
     "end_time": "2021-12-29T06:52:31.509345Z",
     "start_time": "2021-12-29T06:52:31.500652Z"
    },
    "id": "AIzIf9tWHgbB"
   },
   "outputs": [],
   "source": [
    "# Importing libraries\n",
    "from textblob import TextBlob\n",
    "from textblob import Word"
   ]
  },
  {
   "cell_type": "code",
   "execution_count": 7,
   "metadata": {
    "ExecuteTime": {
     "end_time": "2021-12-29T06:50:21.179920Z",
     "start_time": "2021-12-29T06:50:21.172653Z"
    },
    "id": "fTMOk47gHgbC"
   },
   "outputs": [],
   "source": [
    "data = TextBlob('I love Natural Language Proecessing, not you! i am a messi fan')"
   ]
  },
  {
   "cell_type": "code",
   "execution_count": 8,
   "metadata": {
    "ExecuteTime": {
     "end_time": "2021-12-29T06:50:21.684453Z",
     "start_time": "2021-12-29T06:50:21.668245Z"
    },
    "id": "NNtbLDD8HgbC",
    "outputId": "79d39c4f-608b-4c01-e3e1-c2f2787cd83c"
   },
   "outputs": [
    {
     "data": {
      "text/plain": [
       "[('I', 'PRP'),\n",
       " ('love', 'VBP'),\n",
       " ('Natural', 'JJ'),\n",
       " ('Language', 'NNP'),\n",
       " ('Proecessing', 'NNP'),\n",
       " ('not', 'RB'),\n",
       " ('you', 'PRP'),\n",
       " ('i', 'NN'),\n",
       " ('am', 'VBP'),\n",
       " ('a', 'DT'),\n",
       " ('messi', 'NN'),\n",
       " ('fan', 'NN')]"
      ]
     },
     "execution_count": 8,
     "metadata": {},
     "output_type": "execute_result"
    }
   ],
   "source": [
    "# pos tagging\n",
    "data.tags"
   ]
  },
  {
   "cell_type": "code",
   "execution_count": 9,
   "metadata": {
    "ExecuteTime": {
     "end_time": "2021-12-29T06:50:22.353838Z",
     "start_time": "2021-12-29T06:50:22.332292Z"
    },
    "id": "CTikc3w5HgbD",
    "outputId": "c4928df8-219b-4d47-9c04-88f8dc528548"
   },
   "outputs": [
    {
     "data": {
      "text/plain": [
       "WordList(['language proecessing', 'messi fan'])"
      ]
     },
     "execution_count": 9,
     "metadata": {},
     "output_type": "execute_result"
    }
   ],
   "source": [
    "# noun pharese extrcation\n",
    "data.noun_phrases"
   ]
  },
  {
   "cell_type": "code",
   "execution_count": 10,
   "metadata": {
    "ExecuteTime": {
     "end_time": "2021-12-29T06:50:23.227496Z",
     "start_time": "2021-12-29T06:50:23.207137Z"
    },
    "id": "AeeM_KftHgbE",
    "outputId": "58cd2910-4dc9-41a0-b792-a5fbfb987407"
   },
   "outputs": [
    {
     "data": {
      "text/plain": [
       "WordList(['I', 'love', 'Natural', 'Language', 'Proecessing', 'not', 'you', 'i', 'am', 'a', 'messi', 'fan'])"
      ]
     },
     "execution_count": 10,
     "metadata": {},
     "output_type": "execute_result"
    }
   ],
   "source": [
    "# word\n",
    "data.words"
   ]
  },
  {
   "cell_type": "code",
   "execution_count": 11,
   "metadata": {
    "ExecuteTime": {
     "end_time": "2021-12-29T06:50:24.178302Z",
     "start_time": "2021-12-29T06:50:24.171392Z"
    },
    "id": "WKNWmEUyHgbF",
    "outputId": "4f45b974-c239-4874-f11d-ccfeb03bafb1"
   },
   "outputs": [
    {
     "data": {
      "text/plain": [
       "[Sentence(\"I love Natural Language Proecessing, not you!\"),\n",
       " Sentence(\"i am a messi fan\")]"
      ]
     },
     "execution_count": 11,
     "metadata": {},
     "output_type": "execute_result"
    }
   ],
   "source": [
    "# sentence\n",
    "data.sentences"
   ]
  },
  {
   "cell_type": "code",
   "execution_count": 15,
   "metadata": {
    "ExecuteTime": {
     "end_time": "2021-12-29T06:51:07.832203Z",
     "start_time": "2021-12-29T06:51:07.818040Z"
    },
    "id": "2iNPoJXEHgbG"
   },
   "outputs": [
    {
     "name": "stdout",
     "output_type": "stream",
     "text": [
      "pers\n",
      "space\n"
     ]
    }
   ],
   "source": [
    "# word inflection\n",
    "sent = TextBlob('Use 4 spaces per indentation level go')\n",
    "print(sent.words[3].pluralize())\n",
    "print(sent.words[2].singularize())"
   ]
  },
  {
   "cell_type": "code",
   "execution_count": 18,
   "metadata": {
    "ExecuteTime": {
     "end_time": "2021-12-29T06:52:40.412218Z",
     "start_time": "2021-12-29T06:52:40.398190Z"
    },
    "id": "fvKxi7Y6HgbH",
    "outputId": "15227e90-487c-400a-e898-4c256888868c"
   },
   "outputs": [
    {
     "data": {
      "text/plain": [
       "'histori'"
      ]
     },
     "execution_count": 18,
     "metadata": {},
     "output_type": "execute_result"
    }
   ],
   "source": [
    "# stem\n",
    "q = Word('history')\n",
    "q.stem()"
   ]
  },
  {
   "cell_type": "code",
   "execution_count": 19,
   "metadata": {
    "ExecuteTime": {
     "end_time": "2021-12-29T06:52:45.452287Z",
     "start_time": "2021-12-29T06:52:40.858869Z"
    },
    "id": "MCsuv0KDHgbI",
    "outputId": "a34ddcd0-1cc1-4acb-fa1e-0696aee168ec"
   },
   "outputs": [
    {
     "data": {
      "text/plain": [
       "'run'"
      ]
     },
     "execution_count": 19,
     "metadata": {},
     "output_type": "execute_result"
    }
   ],
   "source": [
    "# lemma\n",
    "q = Word('ran')\n",
    "q.lemmatize(\"v\")"
   ]
  },
  {
   "cell_type": "code",
   "execution_count": 20,
   "metadata": {
    "ExecuteTime": {
     "end_time": "2021-12-29T06:52:58.436425Z",
     "start_time": "2021-12-29T06:52:58.349755Z"
    },
    "id": "4VfIa0oAHgbJ",
    "outputId": "bf3abc5e-59c2-4ff7-a0e6-8ad36a39098f"
   },
   "outputs": [
    {
     "data": {
      "text/plain": [
       "['sloping land (especially the slope beside a body of water)',\n",
       " 'a financial institution that accepts deposits and channels the money into lending activities',\n",
       " 'a long ridge or pile',\n",
       " 'an arrangement of similar objects in a row or in tiers',\n",
       " 'a supply or stock held in reserve for future use (especially in emergencies)',\n",
       " 'the funds held by a gambling house or the dealer in some gambling games',\n",
       " 'a slope in the turn of a road or track; the outside is higher than the inside in order to reduce the effects of centrifugal force',\n",
       " 'a container (usually with a slot in the top) for keeping money at home',\n",
       " 'a building in which the business of banking transacted',\n",
       " 'a flight maneuver; aircraft tips laterally about its longitudinal axis (especially in turning)',\n",
       " 'tip laterally',\n",
       " 'enclose with a bank',\n",
       " 'do business with a bank or keep an account at a bank',\n",
       " 'act as the banker in a game or in gambling',\n",
       " 'be in the banking business',\n",
       " 'put into a bank account',\n",
       " 'cover with ashes so to control the rate of burning',\n",
       " 'have confidence or faith in']"
      ]
     },
     "execution_count": 20,
     "metadata": {},
     "output_type": "execute_result"
    }
   ],
   "source": [
    "# Meaning of the word\n",
    "Word('bank').definitions"
   ]
  },
  {
   "cell_type": "code",
   "execution_count": 22,
   "metadata": {
    "ExecuteTime": {
     "end_time": "2021-12-29T06:53:51.234226Z",
     "start_time": "2021-12-29T06:53:50.511337Z"
    },
    "id": "1fl-WGd7HgbJ",
    "outputId": "a95c9c4d-b534-4df8-b77f-4508039cb198"
   },
   "outputs": [
    {
     "data": {
      "text/plain": [
       "TextBlob(\"An you pronounce czechs?\")"
      ]
     },
     "execution_count": 22,
     "metadata": {},
     "output_type": "execute_result"
    }
   ],
   "source": [
    "# spelling correction\n",
    "g = TextBlob('Can you pronounce czechuso?')\n",
    "g.correct()"
   ]
  },
  {
   "cell_type": "code",
   "execution_count": 23,
   "metadata": {
    "ExecuteTime": {
     "end_time": "2021-12-29T06:53:52.061747Z",
     "start_time": "2021-12-29T06:53:51.237944Z"
    },
    "id": "fJRqyRhFHgbK",
    "outputId": "fa5318dd-d1ac-4872-b4b0-1850382631b0"
   },
   "outputs": [
    {
     "data": {
      "text/plain": [
       "[('czechs', 1.0)]"
      ]
     },
     "execution_count": 23,
     "metadata": {},
     "output_type": "execute_result"
    }
   ],
   "source": [
    "Word('czechuso').spellcheck()"
   ]
  },
  {
   "cell_type": "code",
   "execution_count": 32,
   "metadata": {
    "ExecuteTime": {
     "end_time": "2021-12-29T07:00:59.324986Z",
     "start_time": "2021-12-29T07:00:51.295848Z"
    },
    "id": "oMdbxz2hHgbK",
    "outputId": "11507cf8-1799-48e4-99f0-0d213b89816a"
   },
   "outputs": [
    {
     "name": "stdout",
     "output_type": "stream",
     "text": [
      "[('An', 0.5222764723832773), ('Man', 0.25205981080256334), ('Can', 0.1670735428745804), ('Ran', 0.049130302105584375), ('San', 0.003051571559353067), ('Van', 0.0028989929813854134), ('Fan', 0.0012206286237412267), ('Ban', 0.00091547146780592), ('Pan', 0.0006103143118706134), ('Dan', 0.0003051571559353067), ('Wan', 0.00015257857796765334), ('Nan', 0.00015257857796765334), ('Jan', 0.00015257857796765334)]\n",
      "Please select a word: Can\n",
      "[('You', 0.9991114270481607), ('Ou', 0.0005331437711036076), ('Rou', 0.00035542918073573843)]\n",
      "Please select a word: hehehe\n",
      "Correct sentence post spell check is : Can hehehe pronounce czechusovakia\n"
     ]
    }
   ],
   "source": [
    "g = TextBlob('Can You pronounce czechusovakia?')\n",
    "proper_list = []\n",
    "for i in g.words:\n",
    "    if len(Word(i).spellcheck())>1:\n",
    "        print(Word(i).spellcheck())\n",
    "        new_word = input('Please select a word: ')\n",
    "        proper_list.append(new_word)\n",
    "    else:\n",
    "        proper_list.append(i)\n",
    "print(f'Correct sentence post spell check is : {\" \".join(proper_list)}')"
   ]
  },
  {
   "cell_type": "code",
   "execution_count": 34,
   "metadata": {
    "ExecuteTime": {
     "end_time": "2021-12-29T07:02:27.128914Z",
     "start_time": "2021-12-29T07:02:27.109935Z"
    },
    "id": "1VghGHEOHgbL",
    "outputId": "f13aa4ae-3dfb-44eb-f142-7975ccdf6683"
   },
   "outputs": [
    {
     "data": {
      "text/plain": [
       "3"
      ]
     },
     "execution_count": 34,
     "metadata": {},
     "output_type": "execute_result"
    }
   ],
   "source": [
    "# word count\n",
    "sent = TextBlob('SHE Sales Sea shells at the sea shore SEa')\n",
    "sent.word_counts['SEA'.lower()]  "
   ]
  },
  {
   "cell_type": "code",
   "execution_count": 36,
   "metadata": {
    "ExecuteTime": {
     "end_time": "2021-12-29T07:08:12.133237Z",
     "start_time": "2021-12-29T07:08:12.127445Z"
    },
    "id": "Un1jjUonHgbL",
    "outputId": "c4012fbd-d721-4a20-8c78-f220fc56a2b5"
   },
   "outputs": [
    {
     "data": {
      "text/plain": [
       "1"
      ]
     },
     "execution_count": 36,
     "metadata": {},
     "output_type": "execute_result"
    }
   ],
   "source": [
    "sent.words.count('SEa', case_sensitive=True)"
   ]
  },
  {
   "cell_type": "code",
   "execution_count": 37,
   "metadata": {
    "ExecuteTime": {
     "end_time": "2021-12-29T07:08:31.435918Z",
     "start_time": "2021-12-29T07:08:29.999871Z"
    },
    "id": "N2nhQ4nzHgbM",
    "outputId": "497594ac-78d9-4bff-aa5a-68833a079c0f"
   },
   "outputs": [
    {
     "data": {
      "text/plain": [
       "TextBlob(\"कुछ होना कुछ नहीं होने से बेहतर है\")"
      ]
     },
     "execution_count": 37,
     "metadata": {},
     "output_type": "execute_result"
    }
   ],
   "source": [
    "# Translation and language detection\n",
    "blob = TextBlob('Something is Better than nothing')\n",
    "blob.translate(to='hi')"
   ]
  },
  {
   "cell_type": "code",
   "execution_count": 38,
   "metadata": {
    "ExecuteTime": {
     "end_time": "2021-12-29T07:08:35.424272Z",
     "start_time": "2021-12-29T07:08:35.113013Z"
    },
    "id": "-V7uFdhwHgbM",
    "outputId": "79935cf5-d076-49ce-875e-8d0da99264ce"
   },
   "outputs": [
    {
     "data": {
      "text/plain": [
       "TextBlob(\"સમથિંગ ઈઝ બેટર ધેન નથિંગ\")"
      ]
     },
     "execution_count": 38,
     "metadata": {},
     "output_type": "execute_result"
    }
   ],
   "source": [
    "blob = TextBlob('Something is Better than nothing')\n",
    "blob.translate(to='gu')"
   ]
  },
  {
   "cell_type": "markdown",
   "metadata": {
    "id": "HOqWrJERHgbM"
   },
   "source": [
    "all the languge codes - https://cloud.google.com/translate/docs/languages"
   ]
  },
  {
   "cell_type": "code",
   "execution_count": 39,
   "metadata": {
    "ExecuteTime": {
     "end_time": "2021-12-29T07:08:44.233560Z",
     "start_time": "2021-12-29T07:08:43.917609Z"
    },
    "id": "23_SYc7rHgbM",
    "outputId": "39437b2a-164a-44ae-ba6c-0b599ea57d62"
   },
   "outputs": [
    {
     "data": {
      "text/plain": [
       "'gu'"
      ]
     },
     "execution_count": 39,
     "metadata": {},
     "output_type": "execute_result"
    }
   ],
   "source": [
    "blob = TextBlob(\"કંઇ કરતાં કંઇક સારું છે\")\n",
    "blob.detect_language()"
   ]
  },
  {
   "cell_type": "code",
   "execution_count": 40,
   "metadata": {
    "ExecuteTime": {
     "end_time": "2021-12-29T07:11:34.824490Z",
     "start_time": "2021-12-29T07:11:34.800073Z"
    },
    "id": "wwl6gZ2dHgbN",
    "outputId": "760c5bee-c34a-41d2-be54-0b2d971ba52a"
   },
   "outputs": [
    {
     "name": "stdout",
     "output_type": "stream",
     "text": [
      "the text is about:\n",
      "Election\n",
      "Commission\n",
      "Friday\n",
      "Assam\n",
      "Minister\n",
      "BJP\n",
      "Himanta\n",
      "Biswa\n",
      "Sarma\n",
      "Assam\n",
      "Sarma\n",
      "Hagrama\n",
      "Mohilary\n",
      "Bodoland\n",
      "People\n",
      "Front\n",
      "EC\n",
      "Thursday\n",
      "Sarma\n"
     ]
    }
   ],
   "source": [
    "text3 = \"\"\"The Election Commission on Friday debarred Assam Minister and BJP leader Himanta Biswa Sarma from campaigning \n",
    "           for ongoing Assam elections for 48 hours with effect from today. This came after Sarma allegedly made threatening \n",
    "           remarks against opposition leader Hagrama Mohilary of the Bodoland People's Front. EC had on Thursday asked Sarma \n",
    "           for an explanation by today over his remarks.\"\"\"\n",
    "\n",
    "noun = list()\n",
    "blob = TextBlob(text3)\n",
    "for word , tag in blob.tags:\n",
    "    if tag == 'NNP':\n",
    "        noun.append(word.lemmatize())\n",
    "\n",
    "print('the text is about:')\n",
    "\n",
    "for n in noun:\n",
    "    print(n)"
   ]
  },
  {
   "cell_type": "code",
   "execution_count": 41,
   "metadata": {
    "ExecuteTime": {
     "end_time": "2021-12-29T07:15:54.826612Z",
     "start_time": "2021-12-29T07:15:54.813037Z"
    },
    "id": "xxN3RPmpHgbN"
   },
   "outputs": [],
   "source": [
    "# Text classification\n",
    "train = [\n",
    "     ('I love this sandwich.', 'pos'),\n",
    "     ('this is an amazing place!', 'pos'),\n",
    "     ('I feel very good about these beers.', 'pos'),\n",
    "     ('this is my best work.', 'pos'),\n",
    "     (\"what an awesome view\", 'pos'),\n",
    "     ('I do not like this restaurant', 'neg'),\n",
    "     ('I am tired of this stuff.', 'neg'),\n",
    "     (\"I can't deal with this\", 'neg'),\n",
    "     ('he is my sworn enemy!', 'neg'),\n",
    "     ('my boss is horrible.', 'neg')\n",
    "]\n",
    "\n",
    "test = [\n",
    "     ('the beer was good.', 'pos'),\n",
    "     ('I do not enjoy my job', 'neg'),\n",
    "     (\"I ain't feeling dandy today.\", 'neg'),\n",
    "     (\"I feel amazing!\", 'pos'),\n",
    "     ('Gary is a friend of mine.', 'pos'),\n",
    "     (\"I can't believe I'm doing this.\", 'neg')\n",
    "]"
   ]
  },
  {
   "cell_type": "code",
   "execution_count": 42,
   "metadata": {
    "ExecuteTime": {
     "end_time": "2021-12-29T07:15:55.265707Z",
     "start_time": "2021-12-29T07:15:55.250238Z"
    },
    "id": "c9S9jxJMHgbN"
   },
   "outputs": [],
   "source": [
    "from textblob.classifiers import NaiveBayesClassifier\n",
    "cl = NaiveBayesClassifier(train)"
   ]
  },
  {
   "cell_type": "code",
   "execution_count": 43,
   "metadata": {
    "ExecuteTime": {
     "end_time": "2021-12-29T07:15:56.389512Z",
     "start_time": "2021-12-29T07:15:56.373680Z"
    },
    "id": "3XLi1vfTHgbO",
    "outputId": "505c75fa-bb0e-48de-d7b4-24223cc04303"
   },
   "outputs": [
    {
     "data": {
      "text/plain": [
       "0.8333333333333334"
      ]
     },
     "execution_count": 43,
     "metadata": {},
     "output_type": "execute_result"
    }
   ],
   "source": [
    "cl.accuracy(test)"
   ]
  },
  {
   "cell_type": "code",
   "execution_count": 44,
   "metadata": {
    "ExecuteTime": {
     "end_time": "2021-12-29T07:15:57.021272Z",
     "start_time": "2021-12-29T07:15:57.007198Z"
    },
    "id": "0N0HT1iSHgbO",
    "outputId": "01af1375-625b-42f5-a335-973841fe2291"
   },
   "outputs": [
    {
     "data": {
      "text/plain": [
       "'pos'"
      ]
     },
     "execution_count": 44,
     "metadata": {},
     "output_type": "execute_result"
    }
   ],
   "source": [
    "cl.classify('this is the worst library')"
   ]
  },
  {
   "cell_type": "code",
   "execution_count": 45,
   "metadata": {
    "ExecuteTime": {
     "end_time": "2021-12-29T07:15:58.019615Z",
     "start_time": "2021-12-29T07:15:58.014208Z"
    },
    "id": "j_VSraLTHgbO"
   },
   "outputs": [],
   "source": [
    "prob_dist = cl.prob_classify('this is the worst library')"
   ]
  },
  {
   "cell_type": "code",
   "execution_count": 46,
   "metadata": {
    "ExecuteTime": {
     "end_time": "2021-12-29T07:15:59.876356Z",
     "start_time": "2021-12-29T07:15:59.855576Z"
    },
    "id": "cjAvtOKkHgbO",
    "outputId": "7720b224-e928-4f72-d4d4-9e2f98539888"
   },
   "outputs": [
    {
     "data": {
      "text/plain": [
       "0.368852459016394"
      ]
     },
     "execution_count": 46,
     "metadata": {},
     "output_type": "execute_result"
    }
   ],
   "source": [
    "prob_dist.prob('neg')"
   ]
  },
  {
   "cell_type": "code",
   "execution_count": 47,
   "metadata": {
    "ExecuteTime": {
     "end_time": "2021-12-29T07:16:01.518554Z",
     "start_time": "2021-12-29T07:16:01.504488Z"
    },
    "id": "MPzqFbf0HgbO",
    "outputId": "06aa9ef7-7eb2-4c4f-8eac-aee8264e827f"
   },
   "outputs": [
    {
     "data": {
      "text/plain": [
       "0.6311475409836058"
      ]
     },
     "execution_count": 47,
     "metadata": {},
     "output_type": "execute_result"
    }
   ],
   "source": [
    "prob_dist.prob('pos')"
   ]
  },
  {
   "cell_type": "code",
   "execution_count": 48,
   "metadata": {
    "ExecuteTime": {
     "end_time": "2021-12-29T07:16:09.390918Z",
     "start_time": "2021-12-29T07:16:09.368086Z"
    },
    "id": "C20k0Y9jHgbO",
    "outputId": "a3967219-7257-40a4-a367-58f9704a1dc0"
   },
   "outputs": [
    {
     "data": {
      "text/plain": [
       "True"
      ]
     },
     "execution_count": 48,
     "metadata": {},
     "output_type": "execute_result"
    }
   ],
   "source": [
    "# Updating classifeir with new data\n",
    "new_data = [('She is my best friend.', 'pos'),\n",
    "           (\"I'm happy to have a new friend.\", 'pos'),\n",
    "           (\"Stay thirsty, my friend.\", 'pos'),             \n",
    "           (\"He ain't from around here.\", 'neg')]\n",
    "\n",
    "cl.update(new_data)"
   ]
  },
  {
   "cell_type": "code",
   "execution_count": 49,
   "metadata": {
    "ExecuteTime": {
     "end_time": "2021-12-29T07:16:09.771465Z",
     "start_time": "2021-12-29T07:16:09.751945Z"
    },
    "id": "fZtgQ6lvHgbP",
    "outputId": "673dfeb2-1efb-4f15-af96-8632dec83ea3"
   },
   "outputs": [
    {
     "data": {
      "text/plain": [
       "1.0"
      ]
     },
     "execution_count": 49,
     "metadata": {},
     "output_type": "execute_result"
    }
   ],
   "source": [
    "cl.accuracy(test)"
   ]
  }
 ],
 "metadata": {
  "colab": {
   "name": "TextBlob.ipynb",
   "provenance": []
  },
  "kernelspec": {
   "display_name": "Python 3",
   "language": "python",
   "name": "python3"
  },
  "language_info": {
   "codemirror_mode": {
    "name": "ipython",
    "version": 3
   },
   "file_extension": ".py",
   "mimetype": "text/x-python",
   "name": "python",
   "nbconvert_exporter": "python",
   "pygments_lexer": "ipython3",
   "version": "3.8.8"
  }
 },
 "nbformat": 4,
 "nbformat_minor": 1
}
