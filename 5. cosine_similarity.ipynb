{
 "cells": [
  {
   "cell_type": "code",
   "execution_count": 1,
   "metadata": {
    "ExecuteTime": {
     "end_time": "2021-12-29T09:06:45.859703Z",
     "start_time": "2021-12-29T09:06:45.153365Z"
    },
    "id": "RwTNFUzDv_4g",
    "outputId": "a3b1e386-49fa-40c7-fb6b-5ee01df5cd78"
   },
   "outputs": [
    {
     "name": "stdout",
     "output_type": "stream",
     "text": [
      "0.7241379310344827\n"
     ]
    },
    {
     "data": {
      "image/png": "[encoded data removed]",
      "text/plain": [
       "<Figure size 432x288 with 1 Axes>"
      ]
     },
     "metadata": {
      "needs_background": "light"
     },
     "output_type": "display_data"
    }
   ],
   "source": [
    "import numpy as np\n",
    "import matplotlib.pyplot as plt\n",
    "\n",
    "A = np.array([7,3])\n",
    "B = np.array([3,7])\n",
    "\n",
    "ax = plt.axes()\n",
    "ax.arrow(0,0, A[0], A[1], head_width = 0.4 , head_length = 0.5)\n",
    "plt.annotate(f\"A({A[0]} , {A[1]})\" , xy=(A[0]+0.5 , A[1]))\n",
    "\n",
    "ax.arrow(0,0, B[0], B[1], head_width = 0.4 , head_length = 0.5)\n",
    "plt.annotate(f\"A({B[0]} , {B[1]})\" , xy=(B[0]+0.5 , B[1]))\n",
    "plt.xlim(0,10)\n",
    "plt.ylim(0,10)\n",
    "\n",
    "\n",
    "# cosine similarity between the two points\n",
    "\n",
    "cos_sim = np.dot(A,B) / (np.linalg.norm(A) * np.linalg.norm(B))\n",
    "print(cos_sim)"
   ]
  },
  {
   "cell_type": "code",
   "execution_count": 2,
   "metadata": {
    "ExecuteTime": {
     "end_time": "2021-12-29T09:06:54.146259Z",
     "start_time": "2021-12-29T09:06:51.994435Z"
    },
    "id": "9wSZ_x6Av_4k",
    "scrolled": true
   },
   "outputs": [],
   "source": [
    "from sklearn.metrics.pairwise import cosine_similarity\n",
    "A = np.array([3,2,0,5])\n",
    "B = np.array([1,0,0,0])\n",
    "\n",
    "cos_sim = cosine_similarity(A.reshape(1,-1),B.reshape(1,-1))"
   ]
  },
  {
   "cell_type": "code",
   "execution_count": 3,
   "metadata": {
    "ExecuteTime": {
     "end_time": "2021-12-29T09:06:54.170583Z",
     "start_time": "2021-12-29T09:06:54.146259Z"
    },
    "id": "BTOjUZw5v_4l",
    "outputId": "b11a16d9-7850-46d0-c676-06409492f155"
   },
   "outputs": [
    {
     "data": {
      "text/plain": [
       "array([[0.48666426]])"
      ]
     },
     "execution_count": 3,
     "metadata": {},
     "output_type": "execute_result"
    }
   ],
   "source": [
    "cos_sim"
   ]
  },
  {
   "cell_type": "code",
   "execution_count": 4,
   "metadata": {
    "ExecuteTime": {
     "end_time": "2021-12-29T09:07:03.598690Z",
     "start_time": "2021-12-29T09:07:03.577384Z"
    },
    "id": "a2rVkr5jv_4m"
   },
   "outputs": [],
   "source": [
    "doc_trump = \"Mr. Trump became president after winning the political election. Though he lost the support of some republican friends, Trump is friends with President Putin\"\n",
    "\n",
    "doc_election = \"President Trump says Putin had no political interference is the election outcome. He says it was a witchhunt by political parties. He claimed President Putin is a friend who had nothing to do with the election\"\n",
    "\n",
    "doc_putin = \"Post elections, Vladimir Putin became President of Russia. President Putin had served as the Prime Minister earlier in his political career\"\n",
    "\n",
    "doc_zee = \"Zeeshan is a Mechanical engineer and also he is intrested in politics\"\n",
    "\n",
    "documents = [doc_trump, doc_election, doc_putin, doc_zee]"
   ]
  },
  {
   "cell_type": "code",
   "execution_count": 5,
   "metadata": {
    "ExecuteTime": {
     "end_time": "2021-12-29T09:07:22.977413Z",
     "start_time": "2021-12-29T09:07:22.190507Z"
    },
    "id": "HB6ZC8Nxv_4n"
   },
   "outputs": [],
   "source": [
    "from sklearn.feature_extraction.text import TfidfVectorizer\n",
    "import pandas as pd\n",
    "\n",
    "bow = TfidfVectorizer(stop_words='english')\n",
    "sparse_mat = bow.fit_transform(documents)"
   ]
  },
  {
   "cell_type": "code",
   "execution_count": 6,
   "metadata": {
    "ExecuteTime": {
     "end_time": "2021-12-29T09:07:23.081990Z",
     "start_time": "2021-12-29T09:07:23.067577Z"
    }
   },
   "outputs": [
    {
     "data": {
      "text/plain": [
       "['career',\n",
       " 'claimed',\n",
       " 'earlier',\n",
       " 'election',\n",
       " 'elections',\n",
       " 'engineer',\n",
       " 'friend',\n",
       " 'friends',\n",
       " 'interference',\n",
       " 'intrested',\n",
       " 'lost',\n",
       " 'mechanical',\n",
       " 'minister',\n",
       " 'mr',\n",
       " 'outcome',\n",
       " 'parties',\n",
       " 'political',\n",
       " 'politics',\n",
       " 'post',\n",
       " 'president',\n",
       " 'prime',\n",
       " 'putin',\n",
       " 'republican',\n",
       " 'russia',\n",
       " 'says',\n",
       " 'served',\n",
       " 'support',\n",
       " 'trump',\n",
       " 'vladimir',\n",
       " 'winning',\n",
       " 'witchhunt',\n",
       " 'zeeshan']"
      ]
     },
     "execution_count": 6,
     "metadata": {},
     "output_type": "execute_result"
    }
   ],
   "source": [
    "bow.get_feature_names()"
   ]
  },
  {
   "cell_type": "code",
   "execution_count": 7,
   "metadata": {
    "ExecuteTime": {
     "end_time": "2021-12-29T09:07:40.418409Z",
     "start_time": "2021-12-29T09:07:40.403337Z"
    },
    "id": "fbeiX0ycv_4o"
   },
   "outputs": [],
   "source": [
    "df = pd.DataFrame(sparse_mat.toarray() , columns = bow.get_feature_names() , \n",
    "                  index = ['doc_trump','doc_election','doc_putin','doc_zee'])"
   ]
  },
  {
   "cell_type": "code",
   "execution_count": 8,
   "metadata": {
    "ExecuteTime": {
     "end_time": "2021-12-29T09:07:40.903218Z",
     "start_time": "2021-12-29T09:07:40.843238Z"
    },
    "id": "iX9NRU5Bv_4p",
    "outputId": "99bf0b5c-b5ca-401f-fe2a-7f715b943993"
   },
   "outputs": [
    {
     "data": {
      "text/html": [
       "<div>\n",
       "<style scoped>\n",
       "    .dataframe tbody tr th:only-of-type {\n",
       "        vertical-align: middle;\n",
       "    }\n",
       "\n",
       "    .dataframe tbody tr th {\n",
       "        vertical-align: top;\n",
       "    }\n",
       "\n",
       "    .dataframe thead th {\n",
       "        text-align: right;\n",
       "    }\n",
       "</style>\n",
       "<table border=\"1\" class=\"dataframe\">\n",
       "  <thead>\n",
       "    <tr style=\"text-align: right;\">\n",
       "      <th></th>\n",
       "      <th>career</th>\n",
       "      <th>claimed</th>\n",
       "      <th>earlier</th>\n",
       "      <th>election</th>\n",
       "      <th>elections</th>\n",
       "      <th>engineer</th>\n",
       "      <th>friend</th>\n",
       "      <th>friends</th>\n",
       "      <th>interference</th>\n",
       "      <th>intrested</th>\n",
       "      <th>...</th>\n",
       "      <th>republican</th>\n",
       "      <th>russia</th>\n",
       "      <th>says</th>\n",
       "      <th>served</th>\n",
       "      <th>support</th>\n",
       "      <th>trump</th>\n",
       "      <th>vladimir</th>\n",
       "      <th>winning</th>\n",
       "      <th>witchhunt</th>\n",
       "      <th>zeeshan</th>\n",
       "    </tr>\n",
       "  </thead>\n",
       "  <tbody>\n",
       "    <tr>\n",
       "      <th>doc_trump</th>\n",
       "      <td>0.000000</td>\n",
       "      <td>0.000000</td>\n",
       "      <td>0.000000</td>\n",
       "      <td>0.206674</td>\n",
       "      <td>0.000000</td>\n",
       "      <td>0.000000</td>\n",
       "      <td>0.000000</td>\n",
       "      <td>0.524279</td>\n",
       "      <td>0.000000</td>\n",
       "      <td>0.000000</td>\n",
       "      <td>...</td>\n",
       "      <td>0.262139</td>\n",
       "      <td>0.000000</td>\n",
       "      <td>0.000000</td>\n",
       "      <td>0.000000</td>\n",
       "      <td>0.262139</td>\n",
       "      <td>0.413347</td>\n",
       "      <td>0.000000</td>\n",
       "      <td>0.262139</td>\n",
       "      <td>0.000000</td>\n",
       "      <td>0.000000</td>\n",
       "    </tr>\n",
       "    <tr>\n",
       "      <th>doc_election</th>\n",
       "      <td>0.000000</td>\n",
       "      <td>0.235723</td>\n",
       "      <td>0.000000</td>\n",
       "      <td>0.371693</td>\n",
       "      <td>0.000000</td>\n",
       "      <td>0.000000</td>\n",
       "      <td>0.235723</td>\n",
       "      <td>0.000000</td>\n",
       "      <td>0.235723</td>\n",
       "      <td>0.000000</td>\n",
       "      <td>...</td>\n",
       "      <td>0.000000</td>\n",
       "      <td>0.000000</td>\n",
       "      <td>0.471445</td>\n",
       "      <td>0.000000</td>\n",
       "      <td>0.000000</td>\n",
       "      <td>0.185846</td>\n",
       "      <td>0.000000</td>\n",
       "      <td>0.000000</td>\n",
       "      <td>0.235723</td>\n",
       "      <td>0.000000</td>\n",
       "    </tr>\n",
       "    <tr>\n",
       "      <th>doc_putin</th>\n",
       "      <td>0.280975</td>\n",
       "      <td>0.000000</td>\n",
       "      <td>0.280975</td>\n",
       "      <td>0.000000</td>\n",
       "      <td>0.280975</td>\n",
       "      <td>0.000000</td>\n",
       "      <td>0.000000</td>\n",
       "      <td>0.000000</td>\n",
       "      <td>0.000000</td>\n",
       "      <td>0.000000</td>\n",
       "      <td>...</td>\n",
       "      <td>0.000000</td>\n",
       "      <td>0.280975</td>\n",
       "      <td>0.000000</td>\n",
       "      <td>0.280975</td>\n",
       "      <td>0.000000</td>\n",
       "      <td>0.000000</td>\n",
       "      <td>0.280975</td>\n",
       "      <td>0.000000</td>\n",
       "      <td>0.000000</td>\n",
       "      <td>0.000000</td>\n",
       "    </tr>\n",
       "    <tr>\n",
       "      <th>doc_zee</th>\n",
       "      <td>0.000000</td>\n",
       "      <td>0.000000</td>\n",
       "      <td>0.000000</td>\n",
       "      <td>0.000000</td>\n",
       "      <td>0.000000</td>\n",
       "      <td>0.447214</td>\n",
       "      <td>0.000000</td>\n",
       "      <td>0.000000</td>\n",
       "      <td>0.000000</td>\n",
       "      <td>0.447214</td>\n",
       "      <td>...</td>\n",
       "      <td>0.000000</td>\n",
       "      <td>0.000000</td>\n",
       "      <td>0.000000</td>\n",
       "      <td>0.000000</td>\n",
       "      <td>0.000000</td>\n",
       "      <td>0.000000</td>\n",
       "      <td>0.000000</td>\n",
       "      <td>0.000000</td>\n",
       "      <td>0.000000</td>\n",
       "      <td>0.447214</td>\n",
       "    </tr>\n",
       "  </tbody>\n",
       "</table>\n",
       "<p>4 rows × 32 columns</p>\n",
       "</div>"
      ],
      "text/plain": [
       "                career   claimed   earlier  election  elections  engineer  \\\n",
       "doc_trump     0.000000  0.000000  0.000000  0.206674   0.000000  0.000000   \n",
       "doc_election  0.000000  0.235723  0.000000  0.371693   0.000000  0.000000   \n",
       "doc_putin     0.280975  0.000000  0.280975  0.000000   0.280975  0.000000   \n",
       "doc_zee       0.000000  0.000000  0.000000  0.000000   0.000000  0.447214   \n",
       "\n",
       "                friend   friends  interference  intrested  ...  republican  \\\n",
       "doc_trump     0.000000  0.524279      0.000000   0.000000  ...    0.262139   \n",
       "doc_election  0.235723  0.000000      0.235723   0.000000  ...    0.000000   \n",
       "doc_putin     0.000000  0.000000      0.000000   0.000000  ...    0.000000   \n",
       "doc_zee       0.000000  0.000000      0.000000   0.447214  ...    0.000000   \n",
       "\n",
       "                russia      says    served   support     trump  vladimir  \\\n",
       "doc_trump     0.000000  0.000000  0.000000  0.262139  0.413347  0.000000   \n",
       "doc_election  0.000000  0.471445  0.000000  0.000000  0.185846  0.000000   \n",
       "doc_putin     0.280975  0.000000  0.280975  0.000000  0.000000  0.280975   \n",
       "doc_zee       0.000000  0.000000  0.000000  0.000000  0.000000  0.000000   \n",
       "\n",
       "               winning  witchhunt   zeeshan  \n",
       "doc_trump     0.262139   0.000000  0.000000  \n",
       "doc_election  0.000000   0.235723  0.000000  \n",
       "doc_putin     0.000000   0.000000  0.000000  \n",
       "doc_zee       0.000000   0.000000  0.447214  \n",
       "\n",
       "[4 rows x 32 columns]"
      ]
     },
     "execution_count": 8,
     "metadata": {},
     "output_type": "execute_result"
    }
   ],
   "source": [
    "df"
   ]
  },
  {
   "cell_type": "code",
   "execution_count": 9,
   "metadata": {
    "ExecuteTime": {
     "end_time": "2021-12-29T09:07:46.853853Z",
     "start_time": "2021-12-29T09:07:46.836242Z"
    },
    "id": "f6HS609vv_4q",
    "outputId": "cdc2a92a-f008-4066-e997-391ac65a504d"
   },
   "outputs": [
    {
     "data": {
      "text/plain": [
       "array([[1.        , 0.35503653, 0.21005392, 0.        ],\n",
       "       [0.35503653, 1.        , 0.26983715, 0.        ],\n",
       "       [0.21005392, 0.26983715, 1.        , 0.        ],\n",
       "       [0.        , 0.        , 0.        , 1.        ]])"
      ]
     },
     "execution_count": 9,
     "metadata": {},
     "output_type": "execute_result"
    }
   ],
   "source": [
    "cosine_similarity(df,df)"
   ]
  }
 ],
 "metadata": {
  "colab": {
   "name": "cosine similarity.ipynb",
   "provenance": []
  },
  "kernelspec": {
   "display_name": "Python 3",
   "language": "python",
   "name": "python3"
  },
  "language_info": {
   "codemirror_mode": {
    "name": "ipython",
    "version": 3
   },
   "file_extension": ".py",
   "mimetype": "text/x-python",
   "name": "python",
   "nbconvert_exporter": "python",
   "pygments_lexer": "ipython3",
   "version": "3.8.8"
  }
 },
 "nbformat": 4,
 "nbformat_minor": 1
}
