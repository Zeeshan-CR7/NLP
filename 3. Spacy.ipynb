{
 "cells": [
  {
   "cell_type": "code",
   "execution_count": 1,
   "metadata": {
    "ExecuteTime": {
     "end_time": "2021-12-29T08:29:10.095948Z",
     "start_time": "2021-12-29T08:28:48.723775Z"
    },
    "id": "DWRW4EZOo9EX",
    "outputId": "213bd72f-4649-47aa-aa45-a165f01c3089"
   },
   "outputs": [
    {
     "name": "stdout",
     "output_type": "stream",
     "text": [
      "Requirement already satisfied: spacy in c:\\programdata\\anaconda3\\lib\\site-packages (3.2.1)\n",
      "Requirement already satisfied: numpy>=1.15.0 in c:\\programdata\\anaconda3\\lib\\site-packages (from spacy) (1.20.1)\n",
      "Requirement already satisfied: packaging>=20.0 in c:\\programdata\\anaconda3\\lib\\site-packages (from spacy) (20.9)\n",
      "Requirement already satisfied: wasabi<1.1.0,>=0.8.1 in c:\\programdata\\anaconda3\\lib\\site-packages (from spacy) (0.9.0)\n",
      "Requirement already satisfied: pathy>=0.3.5 in c:\\programdata\\anaconda3\\lib\\site-packages (from spacy) (0.6.1)\n",
      "Requirement already satisfied: thinc<8.1.0,>=8.0.12 in c:\\programdata\\anaconda3\\lib\\site-packages (from spacy) (8.0.13)\n",
      "Requirement already satisfied: setuptools in c:\\programdata\\anaconda3\\lib\\site-packages (from spacy) (52.0.0.post20210125)\n",
      "Requirement already satisfied: requests<3.0.0,>=2.13.0 in c:\\programdata\\anaconda3\\lib\\site-packages (from spacy) (2.25.1)\n",
      "Requirement already satisfied: jinja2 in c:\\programdata\\anaconda3\\lib\\site-packages (from spacy) (2.11.3)\n",
      "Requirement already satisfied: preshed<3.1.0,>=3.0.2 in c:\\programdata\\anaconda3\\lib\\site-packages (from spacy) (3.0.6)\n",
      "Requirement already satisfied: pydantic!=1.8,!=1.8.1,<1.9.0,>=1.7.4 in c:\\programdata\\anaconda3\\lib\\site-packages (from spacy) (1.8.2)\n",
      "Requirement already satisfied: typer<0.5.0,>=0.3.0 in c:\\programdata\\anaconda3\\lib\\site-packages (from spacy) (0.4.0)\n",
      "Requirement already satisfied: srsly<3.0.0,>=2.4.1 in c:\\programdata\\anaconda3\\lib\\site-packages (from spacy) (2.4.2)\n",
      "Requirement already satisfied: tqdm<5.0.0,>=4.38.0 in c:\\programdata\\anaconda3\\lib\\site-packages (from spacy) (4.59.0)\n",
      "Requirement already satisfied: murmurhash<1.1.0,>=0.28.0 in c:\\programdata\\anaconda3\\lib\\site-packages (from spacy) (1.0.6)\n",
      "Requirement already satisfied: spacy-loggers<2.0.0,>=1.0.0 in c:\\programdata\\anaconda3\\lib\\site-packages (from spacy) (1.0.1)\n",
      "Requirement already satisfied: blis<0.8.0,>=0.4.0 in c:\\programdata\\anaconda3\\lib\\site-packages (from spacy) (0.7.5)\n",
      "Requirement already satisfied: langcodes<4.0.0,>=3.2.0 in c:\\programdata\\anaconda3\\lib\\site-packages (from spacy) (3.3.0)\n",
      "Requirement already satisfied: cymem<2.1.0,>=2.0.2 in c:\\programdata\\anaconda3\\lib\\site-packages (from spacy) (2.0.6)\n",
      "Requirement already satisfied: spacy-legacy<3.1.0,>=3.0.8 in c:\\programdata\\anaconda3\\lib\\site-packages (from spacy) (3.0.8)\n",
      "Requirement already satisfied: catalogue<2.1.0,>=2.0.6 in c:\\programdata\\anaconda3\\lib\\site-packages (from spacy) (2.0.6)\n",
      "Requirement already satisfied: pyparsing>=2.0.2 in c:\\programdata\\anaconda3\\lib\\site-packages (from packaging>=20.0->spacy) (2.4.7)\n",
      "Requirement already satisfied: smart-open<6.0.0,>=5.0.0 in c:\\programdata\\anaconda3\\lib\\site-packages (from pathy>=0.3.5->spacy) (5.2.1)\n",
      "Requirement already satisfied: typing-extensions>=3.7.4.3 in c:\\programdata\\anaconda3\\lib\\site-packages (from pydantic!=1.8,!=1.8.1,<1.9.0,>=1.7.4->spacy) (3.7.4.3)\n",
      "Requirement already satisfied: idna<3,>=2.5 in c:\\programdata\\anaconda3\\lib\\site-packages (from requests<3.0.0,>=2.13.0->spacy) (2.10)\n",
      "Requirement already satisfied: certifi>=2017.4.17 in c:\\programdata\\anaconda3\\lib\\site-packages (from requests<3.0.0,>=2.13.0->spacy) (2020.12.5)\n",
      "Requirement already satisfied: chardet<5,>=3.0.2 in c:\\programdata\\anaconda3\\lib\\site-packages (from requests<3.0.0,>=2.13.0->spacy) (4.0.0)\n",
      "Requirement already satisfied: urllib3<1.27,>=1.21.1 in c:\\programdata\\anaconda3\\lib\\site-packages (from requests<3.0.0,>=2.13.0->spacy) (1.26.4)\n",
      "Requirement already satisfied: click<9.0.0,>=7.1.1 in c:\\programdata\\anaconda3\\lib\\site-packages (from typer<0.5.0,>=0.3.0->spacy) (7.1.2)\n",
      "Requirement already satisfied: MarkupSafe>=0.23 in c:\\programdata\\anaconda3\\lib\\site-packages (from jinja2->spacy) (1.1.1)\n",
      "Collecting en-core-web-md==3.2.0\n",
      "  Downloading https://github.com/explosion/spacy-models/releases/download/en_core_web_md-3.2.0/en_core_web_md-3.2.0-py3-none-any.whl (45.7 MB)\n",
      "Requirement already satisfied: spacy<3.3.0,>=3.2.0 in c:\\programdata\\anaconda3\\lib\\site-packages (from en-core-web-md==3.2.0) (3.2.1)\n",
      "Requirement already satisfied: cymem<2.1.0,>=2.0.2 in c:\\programdata\\anaconda3\\lib\\site-packages (from spacy<3.3.0,>=3.2.0->en-core-web-md==3.2.0) (2.0.6)\n",
      "Requirement already satisfied: pathy>=0.3.5 in c:\\programdata\\anaconda3\\lib\\site-packages (from spacy<3.3.0,>=3.2.0->en-core-web-md==3.2.0) (0.6.1)\n",
      "Requirement already satisfied: jinja2 in c:\\programdata\\anaconda3\\lib\\site-packages (from spacy<3.3.0,>=3.2.0->en-core-web-md==3.2.0) (2.11.3)\n",
      "Requirement already satisfied: srsly<3.0.0,>=2.4.1 in c:\\programdata\\anaconda3\\lib\\site-packages (from spacy<3.3.0,>=3.2.0->en-core-web-md==3.2.0) (2.4.2)\n",
      "Requirement already satisfied: blis<0.8.0,>=0.4.0 in c:\\programdata\\anaconda3\\lib\\site-packages (from spacy<3.3.0,>=3.2.0->en-core-web-md==3.2.0) (0.7.5)\n",
      "Requirement already satisfied: requests<3.0.0,>=2.13.0 in c:\\programdata\\anaconda3\\lib\\site-packages (from spacy<3.3.0,>=3.2.0->en-core-web-md==3.2.0) (2.25.1)\n",
      "Requirement already satisfied: langcodes<4.0.0,>=3.2.0 in c:\\programdata\\anaconda3\\lib\\site-packages (from spacy<3.3.0,>=3.2.0->en-core-web-md==3.2.0) (3.3.0)\n",
      "Requirement already satisfied: catalogue<2.1.0,>=2.0.6 in c:\\programdata\\anaconda3\\lib\\site-packages (from spacy<3.3.0,>=3.2.0->en-core-web-md==3.2.0) (2.0.6)\n",
      "Requirement already satisfied: packaging>=20.0 in c:\\programdata\\anaconda3\\lib\\site-packages (from spacy<3.3.0,>=3.2.0->en-core-web-md==3.2.0) (20.9)\n",
      "Requirement already satisfied: typer<0.5.0,>=0.3.0 in c:\\programdata\\anaconda3\\lib\\site-packages (from spacy<3.3.0,>=3.2.0->en-core-web-md==3.2.0) (0.4.0)\n",
      "Requirement already satisfied: setuptools in c:\\programdata\\anaconda3\\lib\\site-packages (from spacy<3.3.0,>=3.2.0->en-core-web-md==3.2.0) (52.0.0.post20210125)\n",
      "Requirement already satisfied: murmurhash<1.1.0,>=0.28.0 in c:\\programdata\\anaconda3\\lib\\site-packages (from spacy<3.3.0,>=3.2.0->en-core-web-md==3.2.0) (1.0.6)\n",
      "Requirement already satisfied: pydantic!=1.8,!=1.8.1,<1.9.0,>=1.7.4 in c:\\programdata\\anaconda3\\lib\\site-packages (from spacy<3.3.0,>=3.2.0->en-core-web-md==3.2.0) (1.8.2)\n",
      "Requirement already satisfied: spacy-loggers<2.0.0,>=1.0.0 in c:\\programdata\\anaconda3\\lib\\site-packages (from spacy<3.3.0,>=3.2.0->en-core-web-md==3.2.0) (1.0.1)\n",
      "Requirement already satisfied: preshed<3.1.0,>=3.0.2 in c:\\programdata\\anaconda3\\lib\\site-packages (from spacy<3.3.0,>=3.2.0->en-core-web-md==3.2.0) (3.0.6)\n",
      "Requirement already satisfied: numpy>=1.15.0 in c:\\programdata\\anaconda3\\lib\\site-packages (from spacy<3.3.0,>=3.2.0->en-core-web-md==3.2.0) (1.20.1)\n",
      "Requirement already satisfied: tqdm<5.0.0,>=4.38.0 in c:\\programdata\\anaconda3\\lib\\site-packages (from spacy<3.3.0,>=3.2.0->en-core-web-md==3.2.0) (4.59.0)\n",
      "Requirement already satisfied: spacy-legacy<3.1.0,>=3.0.8 in c:\\programdata\\anaconda3\\lib\\site-packages (from spacy<3.3.0,>=3.2.0->en-core-web-md==3.2.0) (3.0.8)\n",
      "Requirement already satisfied: wasabi<1.1.0,>=0.8.1 in c:\\programdata\\anaconda3\\lib\\site-packages (from spacy<3.3.0,>=3.2.0->en-core-web-md==3.2.0) (0.9.0)\n",
      "Requirement already satisfied: thinc<8.1.0,>=8.0.12 in c:\\programdata\\anaconda3\\lib\\site-packages (from spacy<3.3.0,>=3.2.0->en-core-web-md==3.2.0) (8.0.13)\n",
      "Requirement already satisfied: pyparsing>=2.0.2 in c:\\programdata\\anaconda3\\lib\\site-packages (from packaging>=20.0->spacy<3.3.0,>=3.2.0->en-core-web-md==3.2.0) (2.4.7)\n",
      "Requirement already satisfied: smart-open<6.0.0,>=5.0.0 in c:\\programdata\\anaconda3\\lib\\site-packages (from pathy>=0.3.5->spacy<3.3.0,>=3.2.0->en-core-web-md==3.2.0) (5.2.1)\n",
      "Requirement already satisfied: typing-extensions>=3.7.4.3 in c:\\programdata\\anaconda3\\lib\\site-packages (from pydantic!=1.8,!=1.8.1,<1.9.0,>=1.7.4->spacy<3.3.0,>=3.2.0->en-core-web-md==3.2.0) (3.7.4.3)\n",
      "Requirement already satisfied: urllib3<1.27,>=1.21.1 in c:\\programdata\\anaconda3\\lib\\site-packages (from requests<3.0.0,>=2.13.0->spacy<3.3.0,>=3.2.0->en-core-web-md==3.2.0) (1.26.4)\n",
      "Requirement already satisfied: idna<3,>=2.5 in c:\\programdata\\anaconda3\\lib\\site-packages (from requests<3.0.0,>=2.13.0->spacy<3.3.0,>=3.2.0->en-core-web-md==3.2.0) (2.10)\n",
      "Requirement already satisfied: certifi>=2017.4.17 in c:\\programdata\\anaconda3\\lib\\site-packages (from requests<3.0.0,>=2.13.0->spacy<3.3.0,>=3.2.0->en-core-web-md==3.2.0) (2020.12.5)\n",
      "Requirement already satisfied: chardet<5,>=3.0.2 in c:\\programdata\\anaconda3\\lib\\site-packages (from requests<3.0.0,>=2.13.0->spacy<3.3.0,>=3.2.0->en-core-web-md==3.2.0) (4.0.0)\n",
      "Requirement already satisfied: click<9.0.0,>=7.1.1 in c:\\programdata\\anaconda3\\lib\\site-packages (from typer<0.5.0,>=0.3.0->spacy<3.3.0,>=3.2.0->en-core-web-md==3.2.0) (7.1.2)\n",
      "Requirement already satisfied: MarkupSafe>=0.23 in c:\\programdata\\anaconda3\\lib\\site-packages (from jinja2->spacy<3.3.0,>=3.2.0->en-core-web-md==3.2.0) (1.1.1)\n",
      "[+] Download and installation successful\n",
      "You can now load the package via spacy.load('en_core_web_md')\n"
     ]
    }
   ],
   "source": [
    "# Installing Libraries\n",
    "!pip install spacy\n",
    "!python -m spacy download en_core_web_md"
   ]
  },
  {
   "cell_type": "code",
   "execution_count": 2,
   "metadata": {
    "ExecuteTime": {
     "end_time": "2021-12-29T08:29:12.589820Z",
     "start_time": "2021-12-29T08:29:10.100760Z"
    },
    "id": "nVlum1z5o9Ed"
   },
   "outputs": [],
   "source": [
    "import spacy"
   ]
  },
  {
   "cell_type": "code",
   "execution_count": 3,
   "metadata": {
    "ExecuteTime": {
     "end_time": "2021-12-29T08:29:15.444671Z",
     "start_time": "2021-12-29T08:29:12.595986Z"
    },
    "id": "_u3iNxbzo9Ee",
    "outputId": "d5692cad-3dba-466c-a3ca-66b38b6d5c1f"
   },
   "outputs": [
    {
     "name": "stdout",
     "output_type": "stream",
     "text": [
      "<class 'spacy.tokens.doc.Doc'>\n"
     ]
    }
   ],
   "source": [
    "nlp = spacy.load('en_core_web_md')\n",
    "text = \"\"\" The Republican president is being challenged by Democratic Party nominee Joe Biden, who is best known as \n",
    "           Barack Obama’s vice-president but has been in US politics since the 1970s. As election day approaches, \n",
    "           pollingcompanies will be trying to gauge the mood of the nation by asking voters which candidate they prefer.\"\"\"\n",
    "doc = nlp(text)\n",
    "print(type(doc))"
   ]
  },
  {
   "cell_type": "code",
   "execution_count": 4,
   "metadata": {
    "ExecuteTime": {
     "end_time": "2021-12-29T08:29:15.477080Z",
     "start_time": "2021-12-29T08:29:15.449066Z"
    },
    "id": "TPhNyBpLo9Ee",
    "outputId": "5599ff95-c175-4d04-dff0-301eeaf22deb"
   },
   "outputs": [
    {
     "data": {
      "text/plain": [
       "[ The Republican president is being challenged by Democratic Party nominee Joe Biden, who is best known as \n",
       "            Barack Obama’s vice-president but has been in US politics since the 1970s.,\n",
       " As election day approaches, \n",
       "            pollingcompanies will be trying to gauge the mood of the nation by asking voters which candidate they prefer.]"
      ]
     },
     "execution_count": 4,
     "metadata": {},
     "output_type": "execute_result"
    }
   ],
   "source": [
    "# sentence tokeinization\n",
    "list(doc.sents)"
   ]
  },
  {
   "cell_type": "code",
   "execution_count": 5,
   "metadata": {
    "ExecuteTime": {
     "end_time": "2021-12-29T08:29:15.492297Z",
     "start_time": "2021-12-29T08:29:15.483514Z"
    },
    "id": "lqNqaHTNo9Ef",
    "outputId": "c221280e-3265-4fb1-cebe-c3a5814be35f"
   },
   "outputs": [
    {
     "data": {
      "text/plain": [
       "61"
      ]
     },
     "execution_count": 5,
     "metadata": {},
     "output_type": "execute_result"
    }
   ],
   "source": [
    "len(doc)"
   ]
  },
  {
   "cell_type": "code",
   "execution_count": 6,
   "metadata": {
    "ExecuteTime": {
     "end_time": "2021-12-29T08:29:15.521901Z",
     "start_time": "2021-12-29T08:29:15.498934Z"
    },
    "id": "blVnMuczo9Eg",
    "outputId": "3e46017a-4aa4-471f-91c9-eb64834751ba"
   },
   "outputs": [
    {
     "name": "stdout",
     "output_type": "stream",
     "text": [
      " \n",
      "The\n",
      "Republican\n",
      "president\n",
      "is\n",
      "being\n",
      "challenged\n",
      "by\n",
      "Democratic\n",
      "Party\n",
      "nominee\n",
      "Joe\n",
      "Biden\n",
      ",\n",
      "who\n",
      "is\n",
      "best\n",
      "known\n",
      "as\n",
      "\n",
      "           \n",
      "Barack\n",
      "Obama\n",
      "’s\n",
      "vice\n",
      "-\n",
      "president\n",
      "but\n",
      "has\n",
      "been\n",
      "in\n",
      "US\n",
      "politics\n",
      "since\n",
      "the\n",
      "1970s\n",
      ".\n",
      "As\n",
      "election\n",
      "day\n",
      "approaches\n",
      ",\n",
      "\n",
      "           \n",
      "pollingcompanies\n",
      "will\n",
      "be\n",
      "trying\n",
      "to\n",
      "gauge\n",
      "the\n",
      "mood\n",
      "of\n",
      "the\n",
      "nation\n",
      "by\n",
      "asking\n",
      "voters\n",
      "which\n",
      "candidate\n",
      "they\n",
      "prefer\n",
      ".\n"
     ]
    }
   ],
   "source": [
    "# word tokenisation\n",
    "for token in doc:\n",
    "    print(token)"
   ]
  },
  {
   "cell_type": "code",
   "execution_count": 7,
   "metadata": {
    "ExecuteTime": {
     "end_time": "2021-12-29T08:29:15.542082Z",
     "start_time": "2021-12-29T08:29:15.525123Z"
    },
    "id": "trnegr5ko9Eh"
   },
   "outputs": [
    {
     "data": {
      "text/plain": [
       "326"
      ]
     },
     "execution_count": 7,
     "metadata": {},
     "output_type": "execute_result"
    }
   ],
   "source": [
    "stopwords = spacy.lang.en.stop_words.STOP_WORDS\n",
    "len(stopwords)"
   ]
  },
  {
   "cell_type": "code",
   "execution_count": 8,
   "metadata": {
    "ExecuteTime": {
     "end_time": "2021-12-29T08:29:15.566784Z",
     "start_time": "2021-12-29T08:29:15.552592Z"
    },
    "id": "8kfs-1i6o9Ei",
    "outputId": "b9a301a2-e115-4f82-d482-17b0e3f7f016"
   },
   "outputs": [
    {
     "data": {
      "text/plain": [
       "'  The Republican president challenged Democratic Party nominee Joe Biden , best known \\n            Barack Obama vice - president US politics 1970s . As election day approaches , \\n            pollingcompanies trying gauge mood nation asking voters candidate prefer .'"
      ]
     },
     "execution_count": 8,
     "metadata": {},
     "output_type": "execute_result"
    }
   ],
   "source": [
    "\" \".join([token.text for token in doc if token.text not in stopwords])    "
   ]
  },
  {
   "cell_type": "code",
   "execution_count": 9,
   "metadata": {
    "ExecuteTime": {
     "end_time": "2021-12-29T08:29:15.591709Z",
     "start_time": "2021-12-29T08:29:15.573109Z"
    },
    "id": "v5MjHKuDo9El"
   },
   "outputs": [],
   "source": [
    "class Text_Preprocessing: \n",
    "    \n",
    "    def __init__(self): # constructor\n",
    "        self.nlp = spacy.load('en_core_web_md')\n",
    "    \n",
    "    def preprocessing(self, text):\n",
    "        doc = self.nlp(text)\n",
    "        clean_data = []\n",
    "        for token in doc:\n",
    "            if not token.is_stop:\n",
    "                if not token.is_punct:\n",
    "                    clean_data.append(token.lemma_)\n",
    "                    \n",
    "        return \" \".join(clean_data).strip()"
   ]
  },
  {
   "cell_type": "code",
   "execution_count": 10,
   "metadata": {
    "ExecuteTime": {
     "end_time": "2021-12-29T08:29:15.612282Z",
     "start_time": "2021-12-29T08:29:15.596403Z"
    }
   },
   "outputs": [],
   "source": [
    "from spacy_preprocessing import Text_Preprocessing"
   ]
  },
  {
   "cell_type": "code",
   "execution_count": 11,
   "metadata": {
    "ExecuteTime": {
     "end_time": "2021-12-29T08:29:18.322962Z",
     "start_time": "2021-12-29T08:29:15.616436Z"
    },
    "id": "yOfl0Ccho9Em",
    "outputId": "48c16822-f6a4-456d-a534-69fac80c8d5f"
   },
   "outputs": [
    {
     "data": {
      "text/plain": [
       "'republican president challenge Democratic Party nominee Joe Biden well know Barack Obama vice president politic 1970 election day approach pollingcompanie try gauge mood nation ask voter candidate prefer'"
      ]
     },
     "execution_count": 11,
     "metadata": {},
     "output_type": "execute_result"
    }
   ],
   "source": [
    "pre = Text_Preprocessing()\n",
    "text = \"\"\" The Republican president is being challenged by Democratic Party nominee Joe Biden, who is best known as Barack Obama’s vice-president but has been in US politics since the 1970s. As election day approaches, pollingcompanies will be trying to gauge the mood of the nation by asking voters which candidate they prefer.\"\"\"\n",
    "pre.preprocessing(text)"
   ]
  },
  {
   "cell_type": "code",
   "execution_count": 12,
   "metadata": {
    "ExecuteTime": {
     "end_time": "2021-12-29T08:29:21.310705Z",
     "start_time": "2021-12-29T08:29:18.326477Z"
    },
    "id": "v5RQCa_Co9Eo"
   },
   "outputs": [
    {
     "name": "stdout",
     "output_type": "stream",
     "text": [
      "zeeshan@gmail.com\n"
     ]
    }
   ],
   "source": [
    "text = 'hi zeeshan@gmail.com has account on www.fb.com with phone number 789'\n",
    "nlp = spacy.load('en_core_web_md')\n",
    "doc = nlp(text)\n",
    "for token in doc:\n",
    "    if token.like_email:\n",
    "        print(token)"
   ]
  },
  {
   "cell_type": "code",
   "execution_count": 13,
   "metadata": {
    "ExecuteTime": {
     "end_time": "2021-12-29T08:29:21.343652Z",
     "start_time": "2021-12-29T08:29:21.316496Z"
    },
    "id": "98zQTUTSo9Ep",
    "outputId": "8287c0dd-ef41-40e8-f47a-9a378f051d1b"
   },
   "outputs": [
    {
     "data": {
      "text/html": [
       "<span class=\"tex2jax_ignore\"><div class=\"entities\" style=\"line-height: 2.5; direction: ltr\">hi zeeshan@gmail.com has account on www.fb.com with phone number \n",
       "<mark class=\"entity\" style=\"background: #e4e7d2; padding: 0.45em 0.6em; margin: 0 0.25em; line-height: 1; border-radius: 0.35em;\">\n",
       "    789\n",
       "    <span style=\"font-size: 0.8em; font-weight: bold; line-height: 1; border-radius: 0.35em; vertical-align: middle; margin-left: 0.5rem\">CARDINAL</span>\n",
       "</mark>\n",
       "</div></span>"
      ],
      "text/plain": [
       "<IPython.core.display.HTML object>"
      ]
     },
     "metadata": {},
     "output_type": "display_data"
    }
   ],
   "source": [
    "# Visualtion\n",
    "from spacy import displacy\n",
    "displacy.render(doc , style = 'ent')"
   ]
  },
  {
   "cell_type": "code",
   "execution_count": 14,
   "metadata": {
    "ExecuteTime": {
     "end_time": "2021-12-29T08:29:21.418131Z",
     "start_time": "2021-12-29T08:29:21.355071Z"
    },
    "id": "VbK35X06o9Ev",
    "outputId": "c8dd992f-fa18-4565-cc8a-fb3175826aa2"
   },
   "outputs": [
    {
     "name": "stdout",
     "output_type": "stream",
     "text": [
      "good---->[-0.42625    0.4431    -0.34517   -0.1326    -0.05816    0.052598\n",
      "  0.21575   -0.36721   -0.04519    2.2444    -0.29089    0.1667\n",
      " -0.052051   0.15964   -0.42759   -0.11147   -0.14951    1.18\n",
      " -0.19603    0.15592   -0.06112   -0.011576   0.26849   -0.30175\n",
      " -0.055796   0.12116    0.010542  -0.18065    0.23281   -0.26367\n",
      "  0.11032    0.06216    0.015019  -0.10687    0.098486   0.048457\n",
      "  0.33355   -0.16177   -0.28503   -0.28655   -0.11245    0.12417\n",
      " -0.24975   -0.2008     0.26034    0.25208   -0.17841    0.15395\n",
      " -0.19799   -0.22644   -0.074088   0.50289    0.32105   -0.034766\n",
      "  0.16543    0.057095  -0.20973    0.098376   0.035058  -0.023057\n",
      " -0.11736   -0.51327   -0.020999   0.39962    0.30533   -0.38839\n",
      "  0.0026097  0.29022    0.017045   0.063961   0.10789    0.29013\n",
      "  0.061732   0.068231  -0.014031   0.048649  -0.011663  -0.26527\n",
      " -0.14494    0.45397    0.067191   0.14195    0.37302   -0.0076579\n",
      "  0.018443  -0.10224   -0.0051647 -0.12233    0.25855   -0.11212\n",
      " -0.053952  -0.19947   -0.32291    0.26205    0.35758   -0.2607\n",
      "  0.37932   -0.4268     0.061313   0.0085055 -0.31061   -0.15091\n",
      " -0.22569    0.074085   0.26419   -0.9689     0.3205     0.013197\n",
      "  0.020656  -0.24059    0.21454   -0.38931   -0.058037  -0.055826\n",
      "  0.22324    0.18331   -0.024247  -0.1512    -0.010921  -0.27556\n",
      "  0.31151    0.21918   -0.091469   0.055151   0.0064999  0.13427\n",
      " -0.28369   -0.38306    0.073976  -0.061432   0.11585   -0.093184\n",
      " -0.09172   -0.22746   -0.11907    0.21006    0.0097736 -0.23443\n",
      "  0.29533   -0.26389   -2.1549     0.391      0.60844    0.021372\n",
      " -0.29117   -0.52578   -0.30445   -0.12788    0.39592    0.20246\n",
      " -0.38065   -0.076001   0.046315  -0.24566    0.014438  -0.0095246\n",
      " -0.029197  -0.11232   -0.029992  -0.52387    0.05365    0.032134\n",
      "  0.35621    0.040588   0.28366   -0.51086    0.20677   -0.3715\n",
      "  0.19042   -0.048069   0.0025944 -0.069552   0.20583   -0.40107\n",
      "  0.0066834  0.066419  -0.19584    0.19296    0.14749   -0.0423\n",
      " -0.044897  -0.46937   -0.38399    0.019192  -0.24857   -0.14294\n",
      " -0.085374  -0.088101   0.23245   -0.16668   -0.025019  -0.029291\n",
      " -0.0046514 -0.12139   -0.20833    0.24371    0.060033  -0.18485\n",
      "  0.33876    0.058523   0.11933    0.066886  -0.20035   -0.054426\n",
      "  0.03731    0.22031   -0.22824    0.048875   0.060931   0.026946\n",
      " -0.20081   -0.005543   0.043733  -0.60604   -0.20841    0.13012\n",
      "  0.18033   -0.086796  -0.13199    0.05757   -0.161     -0.07107\n",
      "  0.015812   0.40779    0.53949    0.13829   -0.20688    0.076653\n",
      "  0.097948   0.071683  -0.10647    0.054176  -0.2932     0.14681\n",
      "  0.16784   -0.20442    0.047034  -0.31862   -0.2226     0.12788\n",
      "  0.17326   -0.10272   -0.15957    0.25465    0.27582    0.011341\n",
      " -0.21905   -0.50156   -0.15053    0.098795   0.31615   -0.087923\n",
      " -0.48265   -0.1241    -0.11466    0.22522    0.28101   -0.38343\n",
      " -0.19752    0.067079  -0.1339     0.1416     0.26925    0.42701\n",
      "  0.1372    -0.13302    0.13731    0.32494    0.55031    0.25321\n",
      "  0.077384   0.049114  -0.36115   -0.52553   -0.37361    0.36655\n",
      "  0.032056  -0.28452    0.14393    0.70665   -0.2256    -0.2962\n",
      " -0.18957   -0.04505   -0.023948   0.078238   0.08545   -0.23747\n",
      "  0.17435    0.039811  -0.45907   -0.052783  -0.32051   -0.12172\n",
      "  0.31545    0.045489   0.22644   -0.4303    -0.068851   0.12875  ]\n",
      "bad---->[-7.3351e-01  4.1392e-01 -4.4250e-01 -2.9127e-01 -9.6179e-02  9.7562e-02\n",
      "  1.3151e-01 -5.1825e-01  1.0671e-01  2.4144e+00 -2.6212e-01 -1.2881e-01\n",
      " -1.0052e-01  1.2833e-01 -4.5271e-01 -1.4928e-01 -1.5026e-01  6.6120e-01\n",
      " -1.8984e-01  9.3389e-02 -1.9194e-02 -9.1885e-02  2.8984e-02 -2.3942e-01\n",
      "  6.4044e-02 -1.5922e-01 -3.0426e-01 -2.2637e-01  3.8600e-02 -2.6689e-01\n",
      " -9.5402e-02  7.9951e-02 -1.9862e-01 -1.2678e-01  2.3640e-01  6.6308e-01\n",
      "  1.1111e-01  2.9372e-02 -4.5536e-02 -2.5312e-02 -2.6607e-02 -1.8607e-01\n",
      " -2.2338e-01  1.0604e-01  1.1929e-01  5.2028e-02 -1.0039e-01  1.8268e-01\n",
      " -3.4591e-01 -1.6101e-01 -1.8500e-01  5.0789e-01  2.2425e-01  1.2521e-01\n",
      "  1.5326e-02  7.9736e-02 -1.5052e-01 -1.2649e-01  2.0725e-01 -8.7926e-02\n",
      " -7.4992e-02 -2.9551e-01  6.6271e-02  3.5549e-01  4.9308e-01 -1.8082e-01\n",
      " -2.7133e-02  8.2868e-03  1.0039e-01 -2.7597e-02  4.5138e-01  2.4734e-01\n",
      "  2.4167e-01  1.3384e-02  9.5598e-02  3.7121e-01 -7.7239e-02 -2.8171e-01\n",
      " -1.4073e-01  4.6421e-01 -2.8648e-01  1.4002e-01  1.5197e-01 -1.8129e-01\n",
      " -1.5505e-01 -1.9236e-01  5.5929e-01 -5.7861e-01 -9.0552e-02 -2.7521e-01\n",
      " -2.8939e-01 -8.4986e-02 -2.3144e-01  5.1729e-02  1.7819e-01 -3.2556e-01\n",
      "  3.1488e-01 -1.4299e-01  2.1185e-01 -1.0551e-01 -4.3000e-01  1.7165e-01\n",
      " -1.6527e-01  1.3271e-01  6.1880e-01 -1.0171e+00 -5.8113e-02  4.8029e-02\n",
      "  1.8454e-02 -2.3498e-01 -1.6980e-01 -2.7157e-01 -2.0547e-01 -5.0518e-01\n",
      " -3.3599e-01  1.5134e-01  1.8405e-03 -2.0448e-01 -1.1011e-01 -4.4870e-01\n",
      "  7.9640e-02  1.0418e-01 -8.0271e-02 -2.8480e-01 -5.0530e-02  1.1302e-01\n",
      "  9.2278e-02 -5.8314e-02  3.5024e-02 -1.6963e-01 -1.3425e-03 -5.3435e-02\n",
      "  1.7699e-01  2.4941e-01  1.8786e-01 -3.2698e-01 -4.2627e-01  4.8289e-02\n",
      "  6.6282e-02 -1.9033e-01 -2.5010e+00  3.4860e-01  6.0322e-01 -1.4619e-01\n",
      " -2.8099e-01  5.5655e-02 -2.8033e-01  1.0090e-01  6.0253e-02 -4.4179e-02\n",
      "  1.1639e-01  9.2801e-02 -1.7375e-01 -3.3749e-02  3.2390e-01 -1.1226e-01\n",
      " -3.3474e-01  6.7303e-02  1.5598e-01 -2.9633e-01 -1.5204e-01 -2.2847e-01\n",
      "  3.8574e-01  2.4367e-02 -2.2866e-02 -2.2048e-01  1.8394e-01  1.6290e-01\n",
      " -1.2147e-02 -2.1621e-01 -1.5601e-01 -2.3721e-01 -9.9739e-02 -3.6410e-02\n",
      "  1.8520e-01  1.1266e-01 -2.3234e-01  2.3272e-01  2.1948e-01 -1.1591e-01\n",
      " -9.7985e-02 -3.9361e-01 -5.9036e-01  2.2522e-01 -3.0476e-01  2.3337e-01\n",
      " -2.7134e-01  2.5348e-01  2.2210e-01  1.3236e-01  3.3456e-01 -7.7566e-02\n",
      "  1.0401e-02  1.3468e-02 -3.5751e-01 -2.3309e-02 -7.9655e-03 -1.6822e-01\n",
      " -1.6826e-01  4.1740e-01 -1.1351e-02 -3.5518e-02 -1.0740e-01  4.2927e-02\n",
      " -1.2712e-01  2.0835e-02  8.4401e-02  2.9680e-01  2.0160e-01  3.9956e-01\n",
      "  1.0100e-01  4.0497e-01  9.0203e-02 -2.1344e-01 -2.7825e-01 -7.8835e-02\n",
      "  1.0119e-01  2.5933e-01 -4.5749e-01 -1.6482e-01 -1.8269e-01  1.6793e-01\n",
      " -2.8976e-01 -8.6973e-02  1.5011e-01 -3.1164e-01 -1.0782e-01  4.8386e-03\n",
      " -2.6186e-02 -1.8625e-01 -4.8566e-02 -3.9599e-02  4.0170e-01  1.5871e-01\n",
      "  9.7818e-02  2.0147e-01  2.9269e-01 -1.1670e-01 -7.4992e-02 -1.4296e-01\n",
      "  1.7935e-01 -3.5507e-02  5.2423e-02  4.9044e-01  3.9278e-02 -1.0086e-01\n",
      "  7.4740e-02 -5.2075e-01  9.6293e-02  3.0605e-01  2.1218e-02 -2.2840e-02\n",
      "  1.8915e-01 -1.9368e-01 -5.5287e-02 -3.7036e-02 -2.2958e-01 -2.1667e-01\n",
      "  1.3179e-01  1.2160e-01 -4.0044e-01  3.8254e-02  1.2728e-01  2.7882e-01\n",
      "  4.1433e-01 -1.8962e-01 -1.1609e-01  3.1615e-01  7.3397e-01  1.6596e-01\n",
      "  3.9022e-02 -5.1148e-02 -2.3227e-02 -4.3265e-01 -8.6997e-02  2.4961e-01\n",
      " -3.0546e-02 -2.5048e-01  1.2017e-01  4.3831e-01 -3.0787e-01 -2.6254e-01\n",
      " -1.6921e-02  8.9203e-02  1.2089e-01  4.0127e-01  1.2566e-01 -3.1128e-01\n",
      "  2.3132e-01 -1.9174e-01 -3.0485e-01  1.8648e-01 -2.7048e-01 -1.1111e-01\n",
      "  1.2681e-01  3.9538e-01 -5.6084e-02 -1.8777e-01 -7.6822e-02 -1.5507e-02]\n"
     ]
    }
   ],
   "source": [
    "doc = nlp('good bad')\n",
    "for token in doc:\n",
    "    print(f'{token}---->{token.vector}')"
   ]
  },
  {
   "cell_type": "code",
   "execution_count": 15,
   "metadata": {
    "ExecuteTime": {
     "end_time": "2021-12-29T08:29:21.495584Z",
     "start_time": "2021-12-29T08:29:21.423480Z"
    },
    "id": "Pprz7C-no9Ew",
    "outputId": "57d718ed-0187-4512-d106-8292fba140d5"
   },
   "outputs": [
    {
     "data": {
      "text/plain": [
       "0.7359829457249657"
      ]
     },
     "execution_count": 15,
     "metadata": {},
     "output_type": "execute_result"
    }
   ],
   "source": [
    "# Similirty between two words\n",
    "text = 'lion'\n",
    "text_1 = 'tiger';\n",
    "doc = nlp(text)\n",
    "doc_1 = nlp(text_1)\n",
    "doc.similarity(doc_1)"
   ]
  }
 ],
 "metadata": {
  "colab": {
   "name": "Spacy.ipynb",
   "provenance": []
  },
  "kernelspec": {
   "display_name": "Python 3",
   "language": "python",
   "name": "python3"
  },
  "language_info": {
   "codemirror_mode": {
    "name": "ipython",
    "version": 3
   },
   "file_extension": ".py",
   "mimetype": "text/x-python",
   "name": "python",
   "nbconvert_exporter": "python",
   "pygments_lexer": "ipython3",
   "version": "3.8.8"
  }
 },
 "nbformat": 4,
 "nbformat_minor": 1
}
