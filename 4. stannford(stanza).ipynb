{
 "cells": [
  {
   "cell_type": "code",
   "execution_count": 16,
   "metadata": {
    "ExecuteTime": {
     "end_time": "2021-12-29T08:42:34.189414Z",
     "start_time": "2021-12-29T08:42:26.107858Z"
    },
    "id": "SBGom1XiuRBt",
    "outputId": "53e0359c-222b-49e9-ed1b-15c59fcc3cf8",
    "scrolled": true
   },
   "outputs": [
    {
     "name": "stdout",
     "output_type": "stream",
     "text": [
      "Requirement already satisfied: stanza in c:\\programdata\\anaconda3\\lib\\site-packages (1.3.0)\n",
      "Requirement already satisfied: numpy in c:\\programdata\\anaconda3\\lib\\site-packages (from stanza) (1.20.1)\n",
      "Requirement already satisfied: torch>=1.3.0 in c:\\programdata\\anaconda3\\lib\\site-packages (from stanza) (1.10.1)\n",
      "Requirement already satisfied: emoji in c:\\programdata\\anaconda3\\lib\\site-packages (from stanza) (1.6.1)\n",
      "Requirement already satisfied: requests in c:\\programdata\\anaconda3\\lib\\site-packages (from stanza) (2.25.1)\n",
      "Requirement already satisfied: six in c:\\programdata\\anaconda3\\lib\\site-packages (from stanza) (1.15.0)\n",
      "Requirement already satisfied: tqdm in c:\\programdata\\anaconda3\\lib\\site-packages (from stanza) (4.59.0)\n",
      "Requirement already satisfied: protobuf in c:\\programdata\\anaconda3\\lib\\site-packages (from stanza) (3.19.1)\n",
      "Requirement already satisfied: typing-extensions in c:\\programdata\\anaconda3\\lib\\site-packages (from torch>=1.3.0->stanza) (3.7.4.3)\n",
      "Requirement already satisfied: chardet<5,>=3.0.2 in c:\\programdata\\anaconda3\\lib\\site-packages (from requests->stanza) (4.0.0)\n",
      "Requirement already satisfied: urllib3<1.27,>=1.21.1 in c:\\programdata\\anaconda3\\lib\\site-packages (from requests->stanza) (1.26.4)\n",
      "Requirement already satisfied: certifi>=2017.4.17 in c:\\programdata\\anaconda3\\lib\\site-packages (from requests->stanza) (2020.12.5)\n",
      "Requirement already satisfied: idna<3,>=2.5 in c:\\programdata\\anaconda3\\lib\\site-packages (from requests->stanza) (2.10)\n",
      "Collecting spacy_stanza\n",
      "  Downloading spacy_stanza-1.0.1-py3-none-any.whl (9.7 kB)\n",
      "Requirement already satisfied: spacy<4.0.0,>=3.0.0 in c:\\programdata\\anaconda3\\lib\\site-packages (from spacy_stanza) (3.2.1)\n",
      "Requirement already satisfied: stanza<1.4.0,>=1.2.0 in c:\\programdata\\anaconda3\\lib\\site-packages (from spacy_stanza) (1.3.0)\n",
      "Requirement already satisfied: wasabi<1.1.0,>=0.8.1 in c:\\programdata\\anaconda3\\lib\\site-packages (from spacy<4.0.0,>=3.0.0->spacy_stanza) (0.9.0)\n",
      "Requirement already satisfied: pydantic!=1.8,!=1.8.1,<1.9.0,>=1.7.4 in c:\\programdata\\anaconda3\\lib\\site-packages (from spacy<4.0.0,>=3.0.0->spacy_stanza) (1.8.2)\n",
      "Requirement already satisfied: setuptools in c:\\programdata\\anaconda3\\lib\\site-packages (from spacy<4.0.0,>=3.0.0->spacy_stanza) (52.0.0.post20210125)\n",
      "Requirement already satisfied: catalogue<2.1.0,>=2.0.6 in c:\\programdata\\anaconda3\\lib\\site-packages (from spacy<4.0.0,>=3.0.0->spacy_stanza) (2.0.6)\n",
      "Requirement already satisfied: requests<3.0.0,>=2.13.0 in c:\\programdata\\anaconda3\\lib\\site-packages (from spacy<4.0.0,>=3.0.0->spacy_stanza) (2.25.1)\n",
      "Requirement already satisfied: typer<0.5.0,>=0.3.0 in c:\\programdata\\anaconda3\\lib\\site-packages (from spacy<4.0.0,>=3.0.0->spacy_stanza) (0.4.0)\n",
      "Requirement already satisfied: tqdm<5.0.0,>=4.38.0 in c:\\programdata\\anaconda3\\lib\\site-packages (from spacy<4.0.0,>=3.0.0->spacy_stanza) (4.59.0)\n",
      "Requirement already satisfied: blis<0.8.0,>=0.4.0 in c:\\programdata\\anaconda3\\lib\\site-packages (from spacy<4.0.0,>=3.0.0->spacy_stanza) (0.7.5)\n",
      "Requirement already satisfied: langcodes<4.0.0,>=3.2.0 in c:\\programdata\\anaconda3\\lib\\site-packages (from spacy<4.0.0,>=3.0.0->spacy_stanza) (3.3.0)\n",
      "Requirement already satisfied: srsly<3.0.0,>=2.4.1 in c:\\programdata\\anaconda3\\lib\\site-packages (from spacy<4.0.0,>=3.0.0->spacy_stanza) (2.4.2)\n",
      "Requirement already satisfied: numpy>=1.15.0 in c:\\programdata\\anaconda3\\lib\\site-packages (from spacy<4.0.0,>=3.0.0->spacy_stanza) (1.20.1)\n",
      "Requirement already satisfied: thinc<8.1.0,>=8.0.12 in c:\\programdata\\anaconda3\\lib\\site-packages (from spacy<4.0.0,>=3.0.0->spacy_stanza) (8.0.13)\n",
      "Requirement already satisfied: spacy-loggers<2.0.0,>=1.0.0 in c:\\programdata\\anaconda3\\lib\\site-packages (from spacy<4.0.0,>=3.0.0->spacy_stanza) (1.0.1)\n",
      "Requirement already satisfied: murmurhash<1.1.0,>=0.28.0 in c:\\programdata\\anaconda3\\lib\\site-packages (from spacy<4.0.0,>=3.0.0->spacy_stanza) (1.0.6)\n",
      "Requirement already satisfied: preshed<3.1.0,>=3.0.2 in c:\\programdata\\anaconda3\\lib\\site-packages (from spacy<4.0.0,>=3.0.0->spacy_stanza) (3.0.6)\n",
      "Requirement already satisfied: jinja2 in c:\\programdata\\anaconda3\\lib\\site-packages (from spacy<4.0.0,>=3.0.0->spacy_stanza) (2.11.3)\n",
      "Requirement already satisfied: cymem<2.1.0,>=2.0.2 in c:\\programdata\\anaconda3\\lib\\site-packages (from spacy<4.0.0,>=3.0.0->spacy_stanza) (2.0.6)\n",
      "Requirement already satisfied: spacy-legacy<3.1.0,>=3.0.8 in c:\\programdata\\anaconda3\\lib\\site-packages (from spacy<4.0.0,>=3.0.0->spacy_stanza) (3.0.8)\n",
      "Requirement already satisfied: pathy>=0.3.5 in c:\\programdata\\anaconda3\\lib\\site-packages (from spacy<4.0.0,>=3.0.0->spacy_stanza) (0.6.1)\n",
      "Requirement already satisfied: packaging>=20.0 in c:\\programdata\\anaconda3\\lib\\site-packages (from spacy<4.0.0,>=3.0.0->spacy_stanza) (20.9)\n",
      "Requirement already satisfied: pyparsing>=2.0.2 in c:\\programdata\\anaconda3\\lib\\site-packages (from packaging>=20.0->spacy<4.0.0,>=3.0.0->spacy_stanza) (2.4.7)\n",
      "Requirement already satisfied: smart-open<6.0.0,>=5.0.0 in c:\\programdata\\anaconda3\\lib\\site-packages (from pathy>=0.3.5->spacy<4.0.0,>=3.0.0->spacy_stanza) (5.2.1)\n",
      "Requirement already satisfied: typing-extensions>=3.7.4.3 in c:\\programdata\\anaconda3\\lib\\site-packages (from pydantic!=1.8,!=1.8.1,<1.9.0,>=1.7.4->spacy<4.0.0,>=3.0.0->spacy_stanza) (3.7.4.3)\n",
      "Requirement already satisfied: idna<3,>=2.5 in c:\\programdata\\anaconda3\\lib\\site-packages (from requests<3.0.0,>=2.13.0->spacy<4.0.0,>=3.0.0->spacy_stanza) (2.10)\n",
      "Requirement already satisfied: urllib3<1.27,>=1.21.1 in c:\\programdata\\anaconda3\\lib\\site-packages (from requests<3.0.0,>=2.13.0->spacy<4.0.0,>=3.0.0->spacy_stanza) (1.26.4)\n",
      "Requirement already satisfied: certifi>=2017.4.17 in c:\\programdata\\anaconda3\\lib\\site-packages (from requests<3.0.0,>=2.13.0->spacy<4.0.0,>=3.0.0->spacy_stanza) (2020.12.5)\n",
      "Requirement already satisfied: chardet<5,>=3.0.2 in c:\\programdata\\anaconda3\\lib\\site-packages (from requests<3.0.0,>=2.13.0->spacy<4.0.0,>=3.0.0->spacy_stanza) (4.0.0)\n",
      "Requirement already satisfied: torch>=1.3.0 in c:\\programdata\\anaconda3\\lib\\site-packages (from stanza<1.4.0,>=1.2.0->spacy_stanza) (1.10.1)\n",
      "Requirement already satisfied: protobuf in c:\\programdata\\anaconda3\\lib\\site-packages (from stanza<1.4.0,>=1.2.0->spacy_stanza) (3.19.1)\n",
      "Requirement already satisfied: emoji in c:\\programdata\\anaconda3\\lib\\site-packages (from stanza<1.4.0,>=1.2.0->spacy_stanza) (1.6.1)\n",
      "Requirement already satisfied: six in c:\\programdata\\anaconda3\\lib\\site-packages (from stanza<1.4.0,>=1.2.0->spacy_stanza) (1.15.0)\n",
      "Requirement already satisfied: click<9.0.0,>=7.1.1 in c:\\programdata\\anaconda3\\lib\\site-packages (from typer<0.5.0,>=0.3.0->spacy<4.0.0,>=3.0.0->spacy_stanza) (7.1.2)\n",
      "Requirement already satisfied: MarkupSafe>=0.23 in c:\\programdata\\anaconda3\\lib\\site-packages (from jinja2->spacy<4.0.0,>=3.0.0->spacy_stanza) (1.1.1)\n",
      "Installing collected packages: spacy-stanza\n",
      "Successfully installed spacy-stanza-1.0.1\n"
     ]
    }
   ],
   "source": [
    "!pip install stanza\n",
    "!pip install spacy_stanza"
   ]
  },
  {
   "cell_type": "code",
   "execution_count": 17,
   "metadata": {
    "ExecuteTime": {
     "end_time": "2021-12-29T08:43:04.813712Z",
     "start_time": "2021-12-29T08:43:02.458787Z"
    },
    "id": "4HoyUXjGuRBx"
   },
   "outputs": [],
   "source": [
    "import stanza\n",
    "import spacy_stanza"
   ]
  },
  {
   "cell_type": "code",
   "execution_count": 3,
   "metadata": {
    "ExecuteTime": {
     "end_time": "2021-12-29T08:34:31.438408Z",
     "start_time": "2021-12-29T08:33:34.939577Z"
    },
    "id": "YY6JXSl8uRBy"
   },
   "outputs": [
    {
     "data": {
      "application/vnd.jupyter.widget-view+json": {
       "model_id": "ba6bf47535c6428bb636fefdb0293590",
       "version_major": 2,
       "version_minor": 0
      },
      "text/plain": [
       "Downloading https://raw.githubusercontent.com/stanfordnlp/stanza-resources/main/resources_1.3.0.json:   0%|   …"
      ]
     },
     "metadata": {},
     "output_type": "display_data"
    },
    {
     "name": "stderr",
     "output_type": "stream",
     "text": [
      "2021-12-29 14:03:35 INFO: Downloading default packages for language: en (English)...\n"
     ]
    },
    {
     "data": {
      "application/vnd.jupyter.widget-view+json": {
       "model_id": "614f8387889e46d9a0dd25ef34fd5ae1",
       "version_major": 2,
       "version_minor": 0
      },
      "text/plain": [
       "Downloading https://huggingface.co/stanfordnlp/stanza-en/resolve/v1.3.0/models/default.zip:   0%|          | 0…"
      ]
     },
     "metadata": {},
     "output_type": "display_data"
    },
    {
     "name": "stderr",
     "output_type": "stream",
     "text": [
      "2021-12-29 14:04:31 INFO: Finished downloading models and saved to C:\\Users\\USER\\stanza_resources.\n"
     ]
    }
   ],
   "source": [
    "stanza.download('en')"
   ]
  },
  {
   "cell_type": "code",
   "execution_count": 4,
   "metadata": {
    "ExecuteTime": {
     "end_time": "2021-12-29T08:34:48.673983Z",
     "start_time": "2021-12-29T08:34:48.535992Z"
    },
    "id": "T0CNnAfJuRBy"
   },
   "outputs": [
    {
     "name": "stderr",
     "output_type": "stream",
     "text": [
      "2021-12-29 14:04:48 INFO: Loading these models for language: en (English):\n",
      "========================\n",
      "| Processor | Package  |\n",
      "------------------------\n",
      "| tokenize  | combined |\n",
      "========================\n",
      "\n",
      "2021-12-29 14:04:48 INFO: Use device: cpu\n",
      "2021-12-29 14:04:48 INFO: Loading: tokenize\n",
      "2021-12-29 14:04:48 INFO: Done loading processors!\n"
     ]
    }
   ],
   "source": [
    "stan = stanza.Pipeline('en' , processor='tokenize')"
   ]
  },
  {
   "cell_type": "code",
   "execution_count": 5,
   "metadata": {
    "ExecuteTime": {
     "end_time": "2021-12-29T08:34:48.969435Z",
     "start_time": "2021-12-29T08:34:48.874180Z"
    },
    "id": "6cczi7SduRBz"
   },
   "outputs": [],
   "source": [
    "doc = stan('Barack obama was born in hawaii? I was born in india')"
   ]
  },
  {
   "cell_type": "code",
   "execution_count": 6,
   "metadata": {
    "ExecuteTime": {
     "end_time": "2021-12-29T08:34:54.789253Z",
     "start_time": "2021-12-29T08:34:54.767714Z"
    },
    "id": "S4oMUypruRBz",
    "outputId": "ff39488b-6cd2-44ea-8371-0942cae0ee2e"
   },
   "outputs": [
    {
     "data": {
      "text/plain": [
       "stanza.models.common.doc.Document"
      ]
     },
     "execution_count": 6,
     "metadata": {},
     "output_type": "execute_result"
    }
   ],
   "source": [
    "type(doc)"
   ]
  },
  {
   "cell_type": "code",
   "execution_count": 7,
   "metadata": {
    "ExecuteTime": {
     "end_time": "2021-12-29T08:35:04.095743Z",
     "start_time": "2021-12-29T08:35:04.086331Z"
    },
    "id": "npElb_2guRB0",
    "outputId": "6dace1f3-999f-4642-b37c-384a0e406965"
   },
   "outputs": [
    {
     "data": {
      "text/plain": [
       "[\n",
       "  [\n",
       "    {\n",
       "      \"id\": 1,\n",
       "      \"text\": \"Barack\",\n",
       "      \"start_char\": 0,\n",
       "      \"end_char\": 6\n",
       "    },\n",
       "    {\n",
       "      \"id\": 2,\n",
       "      \"text\": \"obama\",\n",
       "      \"start_char\": 7,\n",
       "      \"end_char\": 12\n",
       "    },\n",
       "    {\n",
       "      \"id\": 3,\n",
       "      \"text\": \"was\",\n",
       "      \"start_char\": 13,\n",
       "      \"end_char\": 16\n",
       "    },\n",
       "    {\n",
       "      \"id\": 4,\n",
       "      \"text\": \"born\",\n",
       "      \"start_char\": 17,\n",
       "      \"end_char\": 21\n",
       "    },\n",
       "    {\n",
       "      \"id\": 5,\n",
       "      \"text\": \"in\",\n",
       "      \"start_char\": 22,\n",
       "      \"end_char\": 24\n",
       "    },\n",
       "    {\n",
       "      \"id\": 6,\n",
       "      \"text\": \"hawaii\",\n",
       "      \"start_char\": 25,\n",
       "      \"end_char\": 31\n",
       "    },\n",
       "    {\n",
       "      \"id\": 7,\n",
       "      \"text\": \"?\",\n",
       "      \"start_char\": 31,\n",
       "      \"end_char\": 32\n",
       "    }\n",
       "  ],\n",
       "  [\n",
       "    {\n",
       "      \"id\": 1,\n",
       "      \"text\": \"I\",\n",
       "      \"start_char\": 33,\n",
       "      \"end_char\": 34\n",
       "    },\n",
       "    {\n",
       "      \"id\": 2,\n",
       "      \"text\": \"was\",\n",
       "      \"start_char\": 35,\n",
       "      \"end_char\": 38\n",
       "    },\n",
       "    {\n",
       "      \"id\": 3,\n",
       "      \"text\": \"born\",\n",
       "      \"start_char\": 39,\n",
       "      \"end_char\": 43\n",
       "    },\n",
       "    {\n",
       "      \"id\": 4,\n",
       "      \"text\": \"in\",\n",
       "      \"start_char\": 44,\n",
       "      \"end_char\": 46\n",
       "    },\n",
       "    {\n",
       "      \"id\": 5,\n",
       "      \"text\": \"india\",\n",
       "      \"start_char\": 47,\n",
       "      \"end_char\": 52\n",
       "    }\n",
       "  ]\n",
       "]"
      ]
     },
     "execution_count": 7,
     "metadata": {},
     "output_type": "execute_result"
    }
   ],
   "source": [
    "doc"
   ]
  },
  {
   "cell_type": "code",
   "execution_count": 8,
   "metadata": {
    "ExecuteTime": {
     "end_time": "2021-12-29T08:35:10.052459Z",
     "start_time": "2021-12-29T08:35:10.032615Z"
    },
    "id": "PVlSZa6YuRB2",
    "outputId": "386febdb-883f-4681-a564-fffeea535ec8"
   },
   "outputs": [
    {
     "data": {
      "text/plain": [
       "2"
      ]
     },
     "execution_count": 8,
     "metadata": {},
     "output_type": "execute_result"
    }
   ],
   "source": [
    "len(doc.sentences)"
   ]
  },
  {
   "cell_type": "code",
   "execution_count": 9,
   "metadata": {
    "ExecuteTime": {
     "end_time": "2021-12-29T08:35:12.003751Z",
     "start_time": "2021-12-29T08:35:11.989291Z"
    },
    "id": "0aBLBZ7JuRB3",
    "outputId": "5b10f900-7d81-4dc2-87ea-eff3b38cdf25"
   },
   "outputs": [
    {
     "name": "stdout",
     "output_type": "stream",
     "text": [
      "Barack\n",
      "obama\n",
      "was\n",
      "born\n",
      "in\n",
      "hawaii\n",
      "?\n",
      "I\n",
      "was\n",
      "born\n",
      "in\n",
      "india\n"
     ]
    }
   ],
   "source": [
    "for i in doc.sentences:\n",
    "    for j in i.words:\n",
    "        print(j.text)"
   ]
  },
  {
   "cell_type": "code",
   "execution_count": 11,
   "metadata": {
    "ExecuteTime": {
     "end_time": "2021-12-29T08:36:45.854683Z",
     "start_time": "2021-12-29T08:36:41.188868Z"
    },
    "id": "AaPIEw_nuRB5",
    "outputId": "35638760-7d30-48f9-d451-341bab6c60f1"
   },
   "outputs": [
    {
     "name": "stderr",
     "output_type": "stream",
     "text": [
      "2021-12-29 14:06:41 INFO: Loading these models for language: en (English):\n",
      "============================\n",
      "| Processor    | Package   |\n",
      "----------------------------\n",
      "| tokenize     | combined  |\n",
      "| pos          | combined  |\n",
      "| lemma        | combined  |\n",
      "| depparse     | combined  |\n",
      "| sentiment    | sstplus   |\n",
      "| constituency | wsj       |\n",
      "| ner          | ontonotes |\n",
      "============================\n",
      "\n",
      "2021-12-29 14:06:41 INFO: Use device: cpu\n",
      "2021-12-29 14:06:41 INFO: Loading: tokenize\n",
      "2021-12-29 14:06:41 INFO: Loading: pos\n",
      "2021-12-29 14:06:41 INFO: Loading: lemma\n",
      "2021-12-29 14:06:41 INFO: Loading: depparse\n",
      "2021-12-29 14:06:42 INFO: Loading: sentiment\n",
      "2021-12-29 14:06:43 INFO: Loading: constituency\n",
      "2021-12-29 14:06:44 INFO: Loading: ner\n",
      "2021-12-29 14:06:45 INFO: Done loading processors!\n"
     ]
    }
   ],
   "source": [
    "stan = stanza.Pipeline('en')"
   ]
  },
  {
   "cell_type": "code",
   "execution_count": 12,
   "metadata": {
    "ExecuteTime": {
     "end_time": "2021-12-29T08:36:52.549498Z",
     "start_time": "2021-12-29T08:36:51.817513Z"
    },
    "id": "4sr3XdltuRB6",
    "outputId": "1bc7e1c2-0094-4c2b-ca85-0a2ba65ba46f"
   },
   "outputs": [],
   "source": [
    "doc= stan('Barack obama was born in hawaii? I was born in india')"
   ]
  },
  {
   "cell_type": "code",
   "execution_count": 13,
   "metadata": {
    "ExecuteTime": {
     "end_time": "2021-12-29T08:36:55.422734Z",
     "start_time": "2021-12-29T08:36:55.412327Z"
    },
    "id": "_TkH0Rg3uRB6",
    "outputId": "5dec1a0e-c726-46e1-c5d3-d8c3e6ac9a61"
   },
   "outputs": [
    {
     "data": {
      "text/plain": [
       "[\n",
       "  [\n",
       "    {\n",
       "      \"id\": 1,\n",
       "      \"text\": \"Barack\",\n",
       "      \"lemma\": \"Barack\",\n",
       "      \"upos\": \"PROPN\",\n",
       "      \"xpos\": \"NNP\",\n",
       "      \"feats\": \"Number=Sing\",\n",
       "      \"head\": 4,\n",
       "      \"deprel\": \"nsubj:pass\",\n",
       "      \"start_char\": 0,\n",
       "      \"end_char\": 6,\n",
       "      \"ner\": \"B-PERSON\"\n",
       "    },\n",
       "    {\n",
       "      \"id\": 2,\n",
       "      \"text\": \"obama\",\n",
       "      \"lemma\": \"obama\",\n",
       "      \"upos\": \"PROPN\",\n",
       "      \"xpos\": \"NNP\",\n",
       "      \"feats\": \"Number=Sing\",\n",
       "      \"head\": 1,\n",
       "      \"deprel\": \"flat\",\n",
       "      \"start_char\": 7,\n",
       "      \"end_char\": 12,\n",
       "      \"ner\": \"E-PERSON\"\n",
       "    },\n",
       "    {\n",
       "      \"id\": 3,\n",
       "      \"text\": \"was\",\n",
       "      \"lemma\": \"be\",\n",
       "      \"upos\": \"AUX\",\n",
       "      \"xpos\": \"VBD\",\n",
       "      \"feats\": \"Mood=Ind|Number=Sing|Person=3|Tense=Past|VerbForm=Fin\",\n",
       "      \"head\": 4,\n",
       "      \"deprel\": \"aux:pass\",\n",
       "      \"start_char\": 13,\n",
       "      \"end_char\": 16,\n",
       "      \"ner\": \"O\"\n",
       "    },\n",
       "    {\n",
       "      \"id\": 4,\n",
       "      \"text\": \"born\",\n",
       "      \"lemma\": \"bear\",\n",
       "      \"upos\": \"VERB\",\n",
       "      \"xpos\": \"VBN\",\n",
       "      \"feats\": \"Tense=Past|VerbForm=Part|Voice=Pass\",\n",
       "      \"head\": 0,\n",
       "      \"deprel\": \"root\",\n",
       "      \"start_char\": 17,\n",
       "      \"end_char\": 21,\n",
       "      \"ner\": \"O\"\n",
       "    },\n",
       "    {\n",
       "      \"id\": 5,\n",
       "      \"text\": \"in\",\n",
       "      \"lemma\": \"in\",\n",
       "      \"upos\": \"ADP\",\n",
       "      \"xpos\": \"IN\",\n",
       "      \"head\": 6,\n",
       "      \"deprel\": \"case\",\n",
       "      \"start_char\": 22,\n",
       "      \"end_char\": 24,\n",
       "      \"ner\": \"O\"\n",
       "    },\n",
       "    {\n",
       "      \"id\": 6,\n",
       "      \"text\": \"hawaii\",\n",
       "      \"lemma\": \"hawaii\",\n",
       "      \"upos\": \"PROPN\",\n",
       "      \"xpos\": \"NNP\",\n",
       "      \"feats\": \"Number=Sing\",\n",
       "      \"head\": 4,\n",
       "      \"deprel\": \"obl\",\n",
       "      \"start_char\": 25,\n",
       "      \"end_char\": 31,\n",
       "      \"ner\": \"S-GPE\"\n",
       "    },\n",
       "    {\n",
       "      \"id\": 7,\n",
       "      \"text\": \"?\",\n",
       "      \"lemma\": \"?\",\n",
       "      \"upos\": \"PUNCT\",\n",
       "      \"xpos\": \".\",\n",
       "      \"head\": 4,\n",
       "      \"deprel\": \"punct\",\n",
       "      \"start_char\": 31,\n",
       "      \"end_char\": 32,\n",
       "      \"ner\": \"O\"\n",
       "    }\n",
       "  ],\n",
       "  [\n",
       "    {\n",
       "      \"id\": 1,\n",
       "      \"text\": \"I\",\n",
       "      \"lemma\": \"I\",\n",
       "      \"upos\": \"PRON\",\n",
       "      \"xpos\": \"PRP\",\n",
       "      \"feats\": \"Case=Nom|Number=Sing|Person=1|PronType=Prs\",\n",
       "      \"head\": 3,\n",
       "      \"deprel\": \"nsubj:pass\",\n",
       "      \"start_char\": 33,\n",
       "      \"end_char\": 34,\n",
       "      \"ner\": \"O\"\n",
       "    },\n",
       "    {\n",
       "      \"id\": 2,\n",
       "      \"text\": \"was\",\n",
       "      \"lemma\": \"be\",\n",
       "      \"upos\": \"AUX\",\n",
       "      \"xpos\": \"VBD\",\n",
       "      \"feats\": \"Mood=Ind|Number=Sing|Person=3|Tense=Past|VerbForm=Fin\",\n",
       "      \"head\": 3,\n",
       "      \"deprel\": \"aux:pass\",\n",
       "      \"start_char\": 35,\n",
       "      \"end_char\": 38,\n",
       "      \"ner\": \"O\"\n",
       "    },\n",
       "    {\n",
       "      \"id\": 3,\n",
       "      \"text\": \"born\",\n",
       "      \"lemma\": \"bear\",\n",
       "      \"upos\": \"VERB\",\n",
       "      \"xpos\": \"VBN\",\n",
       "      \"feats\": \"Tense=Past|VerbForm=Part|Voice=Pass\",\n",
       "      \"head\": 0,\n",
       "      \"deprel\": \"root\",\n",
       "      \"start_char\": 39,\n",
       "      \"end_char\": 43,\n",
       "      \"ner\": \"O\"\n",
       "    },\n",
       "    {\n",
       "      \"id\": 4,\n",
       "      \"text\": \"in\",\n",
       "      \"lemma\": \"in\",\n",
       "      \"upos\": \"ADP\",\n",
       "      \"xpos\": \"IN\",\n",
       "      \"head\": 5,\n",
       "      \"deprel\": \"case\",\n",
       "      \"start_char\": 44,\n",
       "      \"end_char\": 46,\n",
       "      \"ner\": \"O\"\n",
       "    },\n",
       "    {\n",
       "      \"id\": 5,\n",
       "      \"text\": \"india\",\n",
       "      \"lemma\": \"india\",\n",
       "      \"upos\": \"PROPN\",\n",
       "      \"xpos\": \"NNP\",\n",
       "      \"feats\": \"Number=Sing\",\n",
       "      \"head\": 3,\n",
       "      \"deprel\": \"obl\",\n",
       "      \"start_char\": 47,\n",
       "      \"end_char\": 52,\n",
       "      \"ner\": \"S-GPE\"\n",
       "    }\n",
       "  ]\n",
       "]"
      ]
     },
     "execution_count": 13,
     "metadata": {},
     "output_type": "execute_result"
    }
   ],
   "source": [
    "doc"
   ]
  },
  {
   "cell_type": "code",
   "execution_count": 18,
   "metadata": {
    "ExecuteTime": {
     "end_time": "2021-12-29T08:48:49.132063Z",
     "start_time": "2021-12-29T08:48:44.430364Z"
    },
    "id": "vs9dOW0JuRB8",
    "outputId": "4c0a2e76-5dfa-4fae-a5b8-3075abc0ad20"
   },
   "outputs": [
    {
     "name": "stderr",
     "output_type": "stream",
     "text": [
      "2021-12-29 14:18:44 INFO: Loading these models for language: en (English):\n",
      "============================\n",
      "| Processor    | Package   |\n",
      "----------------------------\n",
      "| tokenize     | combined  |\n",
      "| pos          | combined  |\n",
      "| lemma        | combined  |\n",
      "| depparse     | combined  |\n",
      "| sentiment    | sstplus   |\n",
      "| constituency | wsj       |\n",
      "| ner          | ontonotes |\n",
      "============================\n",
      "\n",
      "2021-12-29 14:18:44 INFO: Use device: cpu\n",
      "2021-12-29 14:18:44 INFO: Loading: tokenize\n",
      "2021-12-29 14:18:44 INFO: Loading: pos\n",
      "2021-12-29 14:18:44 INFO: Loading: lemma\n",
      "2021-12-29 14:18:45 INFO: Loading: depparse\n",
      "2021-12-29 14:18:45 INFO: Loading: sentiment\n",
      "2021-12-29 14:18:46 INFO: Loading: constituency\n",
      "2021-12-29 14:18:47 INFO: Loading: ner\n",
      "2021-12-29 14:18:49 INFO: Done loading processors!\n"
     ]
    }
   ],
   "source": [
    "spacy_stan = spacy_stanza.load_pipeline('en')"
   ]
  },
  {
   "cell_type": "code",
   "execution_count": 19,
   "metadata": {
    "ExecuteTime": {
     "end_time": "2021-12-29T08:49:04.466956Z",
     "start_time": "2021-12-29T08:49:03.581177Z"
    },
    "id": "yJ2ouo4PuRB9"
   },
   "outputs": [],
   "source": [
    "analytics  = spacy_stan('Barack Obama was born in Hawaii. He was elected president in 2008.')"
   ]
  },
  {
   "cell_type": "code",
   "execution_count": 20,
   "metadata": {
    "ExecuteTime": {
     "end_time": "2021-12-29T08:49:11.990770Z",
     "start_time": "2021-12-29T08:49:11.975638Z"
    },
    "id": "MCugt1sCuRB9",
    "outputId": "def7bd18-3ca1-49c8-e628-5e29024ba32e"
   },
   "outputs": [
    {
     "name": "stdout",
     "output_type": "stream",
     "text": [
      "Barack Barack PROPN\n",
      "Obama Obama PROPN\n",
      "was be AUX\n",
      "born bear VERB\n",
      "in in ADP\n",
      "Hawaii Hawaii PROPN\n",
      ". . PUNCT\n",
      "He he PRON\n",
      "was be AUX\n",
      "elected elect VERB\n",
      "president president NOUN\n",
      "in in ADP\n",
      "2008 2008 NUM\n",
      ". . PUNCT\n"
     ]
    }
   ],
   "source": [
    "for i in analytics:\n",
    "    print(i.text , i.lemma_ , i.pos_)"
   ]
  },
  {
   "cell_type": "code",
   "execution_count": 21,
   "metadata": {
    "ExecuteTime": {
     "end_time": "2021-12-29T08:49:26.968699Z",
     "start_time": "2021-12-29T08:49:26.953669Z"
    },
    "id": "cUFgyK89uRB9"
   },
   "outputs": [
    {
     "data": {
      "text/html": [
       "<span class=\"tex2jax_ignore\"><div class=\"entities\" style=\"line-height: 2.5; direction: ltr\">\n",
       "<mark class=\"entity\" style=\"background: #aa9cfc; padding: 0.45em 0.6em; margin: 0 0.25em; line-height: 1; border-radius: 0.35em;\">\n",
       "    Barack Obama\n",
       "    <span style=\"font-size: 0.8em; font-weight: bold; line-height: 1; border-radius: 0.35em; vertical-align: middle; margin-left: 0.5rem\">PERSON</span>\n",
       "</mark>\n",
       " was born in \n",
       "<mark class=\"entity\" style=\"background: #feca74; padding: 0.45em 0.6em; margin: 0 0.25em; line-height: 1; border-radius: 0.35em;\">\n",
       "    Hawaii\n",
       "    <span style=\"font-size: 0.8em; font-weight: bold; line-height: 1; border-radius: 0.35em; vertical-align: middle; margin-left: 0.5rem\">GPE</span>\n",
       "</mark>\n",
       ". He was elected president in \n",
       "<mark class=\"entity\" style=\"background: #bfe1d9; padding: 0.45em 0.6em; margin: 0 0.25em; line-height: 1; border-radius: 0.35em;\">\n",
       "    2008\n",
       "    <span style=\"font-size: 0.8em; font-weight: bold; line-height: 1; border-radius: 0.35em; vertical-align: middle; margin-left: 0.5rem\">DATE</span>\n",
       "</mark>\n",
       ".</div></span>"
      ],
      "text/plain": [
       "<IPython.core.display.HTML object>"
      ]
     },
     "metadata": {},
     "output_type": "display_data"
    }
   ],
   "source": [
    "from spacy import displacy\n",
    "displacy.render(analytics , style = 'ent')"
   ]
  }
 ],
 "metadata": {
  "colab": {
   "name": "stannford(stanza).ipynb",
   "provenance": []
  },
  "kernelspec": {
   "display_name": "Python 3",
   "language": "python",
   "name": "python3"
  },
  "language_info": {
   "codemirror_mode": {
    "name": "ipython",
    "version": 3
   },
   "file_extension": ".py",
   "mimetype": "text/x-python",
   "name": "python",
   "nbconvert_exporter": "python",
   "pygments_lexer": "ipython3",
   "version": "3.8.8"
  }
 },
 "nbformat": 4,
 "nbformat_minor": 1
}
